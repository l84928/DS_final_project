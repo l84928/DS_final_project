{
 "cells": [
  {
   "cell_type": "code",
   "execution_count": null,
   "metadata": {},
   "outputs": [],
   "source": [
    "import torch\n",
    "torch.cuda.empty_cache()\n",
    "from torch.utils.data import TensorDataset, Dataset, DataLoader, RandomSampler\n",
    "from transformers import BertTokenizer, BertModel, BertForMaskedLM, AutoTokenizer, AutoModel, BertForSequenceClassification, AdamW, get_linear_schedule_with_warmup"
   ]
  },
  {
   "cell_type": "code",
   "execution_count": 1,
   "metadata": {},
   "outputs": [
    {
     "name": "stderr",
     "output_type": "stream",
     "text": [
      "c:\\Users\\Ying Jhu\\anaconda3\\envs\\env_1\\lib\\site-packages\\seaborn\\rcmod.py:82: DeprecationWarning: distutils Version classes are deprecated. Use packaging.version instead.\n",
      "  if LooseVersion(mpl.__version__) >= \"3.0\":\n",
      "c:\\Users\\Ying Jhu\\anaconda3\\envs\\env_1\\lib\\site-packages\\setuptools\\_distutils\\version.py:351: DeprecationWarning: distutils Version classes are deprecated. Use packaging.version instead.\n",
      "  other = LooseVersion(other)\n",
      "[nltk_data] Downloading package stopwords to C:\\Users\\Ying\n",
      "[nltk_data]     Jhu\\AppData\\Roaming\\nltk_data...\n",
      "[nltk_data]   Package stopwords is already up-to-date!\n",
      "[nltk_data] Downloading package wordnet to C:\\Users\\Ying\n",
      "[nltk_data]     Jhu\\AppData\\Roaming\\nltk_data...\n",
      "[nltk_data]   Package wordnet is already up-to-date!\n",
      "[nltk_data] Downloading package omw-1.4 to C:\\Users\\Ying\n",
      "[nltk_data]     Jhu\\AppData\\Roaming\\nltk_data...\n",
      "[nltk_data]   Package omw-1.4 is already up-to-date!\n",
      "[nltk_data] Downloading package punkt to C:\\Users\\Ying\n",
      "[nltk_data]     Jhu\\AppData\\Roaming\\nltk_data...\n",
      "[nltk_data]   Package punkt is already up-to-date!\n",
      "[nltk_data] Downloading package averaged_perceptron_tagger to\n",
      "[nltk_data]     C:\\Users\\Ying Jhu\\AppData\\Roaming\\nltk_data...\n",
      "[nltk_data]   Package averaged_perceptron_tagger is already up-to-\n",
      "[nltk_data]       date!\n",
      "c:\\Users\\Ying Jhu\\anaconda3\\envs\\env_1\\lib\\site-packages\\gensim\\matutils.py:22: DeprecationWarning: Please use `triu` from the `scipy.linalg` namespace, the `scipy.linalg.special_matrices` namespace is deprecated.\n",
      "  from scipy.linalg.special_matrices import triu\n"
     ]
    }
   ],
   "source": [
    "import tensorflow as tf\n",
    "physical_devices = tf.config.list_physical_devices(\"GPU\")\n",
    "tf.config.experimental.set_memory_growth(physical_devices[0],True)\n",
    "logical_devices = tf.config.list_logical_devices(\"GPU\")\n",
    "from tf_geometric.utils import tf_utils\n",
    "os.environ[\"CUDA_VISIBLE_DEVICES\"] = \"1\"\n",
    "from tensorflow.keras.preprocessing.text import Tokenizer\n",
    "from tensorflow import keras\n",
    "import tf_geometric as tfg\n",
    "\n",
    "import os\n",
    "import re\n",
    "import time\n",
    "import datetime\n",
    "import math\n",
    "import json\n",
    "import random\n",
    "import pickle\n",
    "from tqdm import tqdm\n",
    "import numpy as np\n",
    "import pandas as pd\n",
    "import seaborn as sns\n",
    "\n",
    "import nltk\n",
    "nltk.download('stopwords')\n",
    "nltk.download('wordnet')\n",
    "nltk.download('omw-1.4')\n",
    "nltk.download('punkt')\n",
    "nltk.download('averaged_perceptron_tagger')\n",
    "from nltk.tokenize import word_tokenize\n",
    "from nltk.corpus import stopwords\n",
    "from nltk.tag import pos_tag, pos_tag_sents\n",
    "from nltk.stem import PorterStemmer\n",
    "from string import punctuation\n",
    "from collections import Counter\n",
    "\n",
    "import missingno as msno\n",
    "import matplotlib.pyplot as plt\n",
    "from sklearn.model_selection import train_test_split \n",
    "from sklearn.linear_model import LogisticRegression\n",
    "from sklearn.tree import DecisionTreeClassifier\n",
    "from sklearn.ensemble import AdaBoostClassifier\n",
    "from sklearn.ensemble import RandomForestClassifier\n",
    "from lightgbm import LGBMClassifier\n",
    "from sklearn.metrics import accuracy_score,precision_score,recall_score,f1_score\n",
    "from nltk.corpus import stopwords\n",
    "from nltk.tokenize import word_tokenize\n",
    "from collections import Counter\n",
    "from sklearn.preprocessing import MinMaxScaler\n",
    "import gensim\n",
    "from gensim.models.word2vec import Word2Vec\n",
    "from tensorflow.python.keras.preprocessing.sequence import pad_sequences\n",
    "from tensorflow.keras.utils import to_categorical\n",
    "from tensorflow.keras.models import Sequential\n",
    "from tensorflow.keras.layers import Embedding, GRU, Dense, SimpleRNN, LSTM\n",
    "\n",
    "from gensim.models import Word2Vec, KeyedVectors\n",
    "from sklearn.linear_model import LogisticRegression\n",
    "from sklearn.model_selection import train_test_split\n",
    "from sklearn.metrics import classification_report\n",
    "from sklearn.metrics import accuracy_score,precision_score,recall_score,f1_score\n",
    "from sklearn.preprocessing import MinMaxScaler\n",
    "from tensorflow.python.keras.preprocessing.sequence import pad_sequences\n",
    "from tensorflow.keras.utils import to_categorical\n",
    "from tensorflow.keras.models import Sequential\n",
    "from tensorflow.keras.preprocessing.text import Tokenizer\n",
    "from tensorflow.keras.layers import Embedding, GRU, Dense, SimpleRNN, LSTM, Dropout\n",
    "from sklearn.feature_extraction.text import CountVectorizer\n",
    "from tensorflow.keras.callbacks import EarlyStopping\n",
    "from tensorflow.keras.optimizers import Adam\n",
    "from sklearn.metrics import classification_report , accuracy_score\n",
    "from sklearn.feature_extraction.text import TfidfVectorizer as tfidf\n",
    "from sklearn.linear_model import LogisticRegressionCV \n",
    "from sklearn import preprocessing\n",
    "\n",
    "random.seed(200)\n",
    "np.random.seed(200)\n",
    "tf.random.set_seed(200)"
   ]
  },
  {
   "cell_type": "code",
   "execution_count": 2,
   "metadata": {},
   "outputs": [
    {
     "data": {
      "text/html": [
       "<div>\n",
       "<style scoped>\n",
       "    .dataframe tbody tr th:only-of-type {\n",
       "        vertical-align: middle;\n",
       "    }\n",
       "\n",
       "    .dataframe tbody tr th {\n",
       "        vertical-align: top;\n",
       "    }\n",
       "\n",
       "    .dataframe thead th {\n",
       "        text-align: right;\n",
       "    }\n",
       "</style>\n",
       "<table border=\"1\" class=\"dataframe\">\n",
       "  <thead>\n",
       "    <tr style=\"text-align: right;\">\n",
       "      <th></th>\n",
       "      <th>topic</th>\n",
       "      <th>tweet_id</th>\n",
       "      <th>tweet_url</th>\n",
       "      <th>tweet_text</th>\n",
       "      <th>class_label</th>\n",
       "    </tr>\n",
       "  </thead>\n",
       "  <tbody>\n",
       "    <tr>\n",
       "      <th>0</th>\n",
       "      <td>COVID-19</td>\n",
       "      <td>1.359351e+18</td>\n",
       "      <td>http://twitter.com/user/status/135935094335617...</td>\n",
       "      <td>India's gift of 100,000 COVID-19 vaccines arri...</td>\n",
       "      <td>0</td>\n",
       "    </tr>\n",
       "    <tr>\n",
       "      <th>1</th>\n",
       "      <td>COVID-19</td>\n",
       "      <td>1.350166e+18</td>\n",
       "      <td>http://twitter.com/user/status/135016568806166...</td>\n",
       "      <td>Here’s what I’m doing while I wait my turn for...</td>\n",
       "      <td>0</td>\n",
       "    </tr>\n",
       "    <tr>\n",
       "      <th>2</th>\n",
       "      <td>COVID-19</td>\n",
       "      <td>1.369750e+18</td>\n",
       "      <td>http://twitter.com/user/status/136974953915491...</td>\n",
       "      <td>This afternoon, I’m hosting an event with the ...</td>\n",
       "      <td>0</td>\n",
       "    </tr>\n",
       "    <tr>\n",
       "      <th>3</th>\n",
       "      <td>COVID-19</td>\n",
       "      <td>1.350165e+18</td>\n",
       "      <td>http://twitter.com/user/status/135016499568693...</td>\n",
       "      <td>Help shops like mine stay open. Mask up, avoid...</td>\n",
       "      <td>0</td>\n",
       "    </tr>\n",
       "    <tr>\n",
       "      <th>4</th>\n",
       "      <td>COVID-19</td>\n",
       "      <td>1.370008e+18</td>\n",
       "      <td>http://twitter.com/user/status/137000807648978...</td>\n",
       "      <td>As part of the ongoing nationwide vaccination ...</td>\n",
       "      <td>0</td>\n",
       "    </tr>\n",
       "    <tr>\n",
       "      <th>...</th>\n",
       "      <td>...</td>\n",
       "      <td>...</td>\n",
       "      <td>...</td>\n",
       "      <td>...</td>\n",
       "      <td>...</td>\n",
       "    </tr>\n",
       "    <tr>\n",
       "      <th>3625</th>\n",
       "      <td>COVID-19</td>\n",
       "      <td>1.242137e+18</td>\n",
       "      <td>http://twitter.com/user/status/124213681646938...</td>\n",
       "      <td>my flintstones gummies from 15 years ago fight...</td>\n",
       "      <td>0</td>\n",
       "    </tr>\n",
       "    <tr>\n",
       "      <th>3626</th>\n",
       "      <td>COVID-19</td>\n",
       "      <td>1.236095e+18</td>\n",
       "      <td>http://twitter.com/user/status/123609539969108...</td>\n",
       "      <td>#COVIDã¼19 Something we all need to be aware ...</td>\n",
       "      <td>1</td>\n",
       "    </tr>\n",
       "    <tr>\n",
       "      <th>3627</th>\n",
       "      <td>COVID-19</td>\n",
       "      <td>1.370092e+18</td>\n",
       "      <td>http://twitter.com/user/status/137009191790463...</td>\n",
       "      <td>Some of the most vulnerable people in Alabama,...</td>\n",
       "      <td>0</td>\n",
       "    </tr>\n",
       "    <tr>\n",
       "      <th>3628</th>\n",
       "      <td>COVID-19</td>\n",
       "      <td>1.369492e+18</td>\n",
       "      <td>http://twitter.com/user/status/136949228214833...</td>\n",
       "      <td>It would be great if our first responders coul...</td>\n",
       "      <td>0</td>\n",
       "    </tr>\n",
       "    <tr>\n",
       "      <th>3629</th>\n",
       "      <td>COVID-19</td>\n",
       "      <td>1.370408e+18</td>\n",
       "      <td>http://twitter.com/user/status/137040826627930...</td>\n",
       "      <td>As states and the federal government roll out ...</td>\n",
       "      <td>0</td>\n",
       "    </tr>\n",
       "  </tbody>\n",
       "</table>\n",
       "<p>3630 rows × 5 columns</p>\n",
       "</div>"
      ],
      "text/plain": [
       "         topic      tweet_id  \\\n",
       "0     COVID-19  1.359351e+18   \n",
       "1     COVID-19  1.350166e+18   \n",
       "2     COVID-19  1.369750e+18   \n",
       "3     COVID-19  1.350165e+18   \n",
       "4     COVID-19  1.370008e+18   \n",
       "...        ...           ...   \n",
       "3625  COVID-19  1.242137e+18   \n",
       "3626  COVID-19  1.236095e+18   \n",
       "3627  COVID-19  1.370092e+18   \n",
       "3628  COVID-19  1.369492e+18   \n",
       "3629  COVID-19  1.370408e+18   \n",
       "\n",
       "                                              tweet_url  \\\n",
       "0     http://twitter.com/user/status/135935094335617...   \n",
       "1     http://twitter.com/user/status/135016568806166...   \n",
       "2     http://twitter.com/user/status/136974953915491...   \n",
       "3     http://twitter.com/user/status/135016499568693...   \n",
       "4     http://twitter.com/user/status/137000807648978...   \n",
       "...                                                 ...   \n",
       "3625  http://twitter.com/user/status/124213681646938...   \n",
       "3626  http://twitter.com/user/status/123609539969108...   \n",
       "3627  http://twitter.com/user/status/137009191790463...   \n",
       "3628  http://twitter.com/user/status/136949228214833...   \n",
       "3629  http://twitter.com/user/status/137040826627930...   \n",
       "\n",
       "                                             tweet_text  class_label  \n",
       "0     India's gift of 100,000 COVID-19 vaccines arri...            0  \n",
       "1     Here’s what I’m doing while I wait my turn for...            0  \n",
       "2     This afternoon, I’m hosting an event with the ...            0  \n",
       "3     Help shops like mine stay open. Mask up, avoid...            0  \n",
       "4     As part of the ongoing nationwide vaccination ...            0  \n",
       "...                                                 ...          ...  \n",
       "3625  my flintstones gummies from 15 years ago fight...            0  \n",
       "3626  #COVIDã¼19 Something we all need to be aware ...            1  \n",
       "3627  Some of the most vulnerable people in Alabama,...            0  \n",
       "3628  It would be great if our first responders coul...            0  \n",
       "3629  As states and the federal government roll out ...            0  \n",
       "\n",
       "[3630 rows x 5 columns]"
      ]
     },
     "execution_count": 2,
     "metadata": {},
     "output_type": "execute_result"
    }
   ],
   "source": [
    "train=pd.read_csv('CT22_english_1C_harmful_train+val.txt',sep='\\t')\n",
    "test=pd.read_csv('CT22_english_1C_harmful_dev_test.tsv',sep='\\t')\n",
    "train"
   ]
  },
  {
   "cell_type": "code",
   "execution_count": 2,
   "metadata": {},
   "outputs": [
    {
     "data": {
      "text/html": [
       "<div>\n",
       "<style scoped>\n",
       "    .dataframe tbody tr th:only-of-type {\n",
       "        vertical-align: middle;\n",
       "    }\n",
       "\n",
       "    .dataframe tbody tr th {\n",
       "        vertical-align: top;\n",
       "    }\n",
       "\n",
       "    .dataframe thead th {\n",
       "        text-align: right;\n",
       "    }\n",
       "</style>\n",
       "<table border=\"1\" class=\"dataframe\">\n",
       "  <thead>\n",
       "    <tr style=\"text-align: right;\">\n",
       "      <th></th>\n",
       "      <th>Unnamed: 0</th>\n",
       "      <th>tweet_text</th>\n",
       "      <th>class_label</th>\n",
       "    </tr>\n",
       "  </thead>\n",
       "  <tbody>\n",
       "    <tr>\n",
       "      <th>0</th>\n",
       "      <td>0</td>\n",
       "      <td>India's gift of 100,000 COVID-19 vaccines arri...</td>\n",
       "      <td>0</td>\n",
       "    </tr>\n",
       "    <tr>\n",
       "      <th>1</th>\n",
       "      <td>1</td>\n",
       "      <td>Here?s what I?m doing while I wait my turn f...</td>\n",
       "      <td>0</td>\n",
       "    </tr>\n",
       "    <tr>\n",
       "      <th>2</th>\n",
       "      <td>2</td>\n",
       "      <td>This afternoon, I?m hosting an event with the...</td>\n",
       "      <td>0</td>\n",
       "    </tr>\n",
       "    <tr>\n",
       "      <th>3</th>\n",
       "      <td>3</td>\n",
       "      <td>Help shops like mine stay open. Mask up, avoid...</td>\n",
       "      <td>0</td>\n",
       "    </tr>\n",
       "    <tr>\n",
       "      <th>4</th>\n",
       "      <td>4</td>\n",
       "      <td>As part of the ongoing nationwide vaccination ...</td>\n",
       "      <td>0</td>\n",
       "    </tr>\n",
       "    <tr>\n",
       "      <th>...</th>\n",
       "      <td>...</td>\n",
       "      <td>...</td>\n",
       "      <td>...</td>\n",
       "    </tr>\n",
       "    <tr>\n",
       "      <th>6506</th>\n",
       "      <td>2902</td>\n",
       "      <td>@realDonaldTrump Donald scoop scrub his actuat...</td>\n",
       "      <td>1</td>\n",
       "    </tr>\n",
       "    <tr>\n",
       "      <th>6507</th>\n",
       "      <td>2903</td>\n",
       "      <td>New York AG monish televangelist #JimBakker To...</td>\n",
       "      <td>1</td>\n",
       "    </tr>\n",
       "    <tr>\n",
       "      <th>6508</th>\n",
       "      <td>2904</td>\n",
       "      <td>Zika, Ebola, Lyme disease, German measles, spa...</td>\n",
       "      <td>1</td>\n",
       "    </tr>\n",
       "    <tr>\n",
       "      <th>6509</th>\n",
       "      <td>2905</td>\n",
       "      <td>The President wonÃ¢??t let uracil witness this...</td>\n",
       "      <td>1</td>\n",
       "    </tr>\n",
       "    <tr>\n",
       "      <th>6510</th>\n",
       "      <td>2906</td>\n",
       "      <td>#COVIDÃ£?Â¼19 Something we all take to be cogn...</td>\n",
       "      <td>1</td>\n",
       "    </tr>\n",
       "  </tbody>\n",
       "</table>\n",
       "<p>6511 rows × 3 columns</p>\n",
       "</div>"
      ],
      "text/plain": [
       "      Unnamed: 0                                         tweet_text  \\\n",
       "0              0  India's gift of 100,000 COVID-19 vaccines arri...   \n",
       "1              1  Here?s what I?m doing while I wait my turn f...   \n",
       "2              2  This afternoon, I?m hosting an event with the...   \n",
       "3              3  Help shops like mine stay open. Mask up, avoid...   \n",
       "4              4  As part of the ongoing nationwide vaccination ...   \n",
       "...          ...                                                ...   \n",
       "6506        2902  @realDonaldTrump Donald scoop scrub his actuat...   \n",
       "6507        2903  New York AG monish televangelist #JimBakker To...   \n",
       "6508        2904  Zika, Ebola, Lyme disease, German measles, spa...   \n",
       "6509        2905  The President wonÃ¢??t let uracil witness this...   \n",
       "6510        2906  #COVIDÃ£?Â¼19 Something we all take to be cogn...   \n",
       "\n",
       "      class_label  \n",
       "0               0  \n",
       "1               0  \n",
       "2               0  \n",
       "3               0  \n",
       "4               0  \n",
       "...           ...  \n",
       "6506            1  \n",
       "6507            1  \n",
       "6508            1  \n",
       "6509            1  \n",
       "6510            1  \n",
       "\n",
       "[6511 rows x 3 columns]"
      ]
     },
     "execution_count": 2,
     "metadata": {},
     "output_type": "execute_result"
    }
   ],
   "source": [
    "train=pd.read_csv('train_aug.csv',sep=',',encoding='ISO-8859-1')\n",
    "test=pd.read_csv('CT22_english_1C_harmful_dev_test.tsv',sep='\\t')\n",
    "train"
   ]
  },
  {
   "cell_type": "markdown",
   "metadata": {},
   "source": [
    "## EDA"
   ]
  },
  {
   "cell_type": "code",
   "execution_count": 31,
   "metadata": {},
   "outputs": [
    {
     "data": {
      "text/plain": [
       "<AxesSubplot:>"
      ]
     },
     "execution_count": 31,
     "metadata": {},
     "output_type": "execute_result"
    },
    {
     "data": {
      "image/png": "[encoded data removed]",
      "text/plain": [
       "<Figure size 1800x720 with 3 Axes>"
      ]
     },
     "metadata": {
      "needs_background": "light"
     },
     "output_type": "display_data"
    }
   ],
   "source": [
    "msno.bar(train)"
   ]
  },
  {
   "cell_type": "code",
   "execution_count": 16,
   "metadata": {},
   "outputs": [
    {
     "data": {
      "text/plain": [
       "<BarContainer object of 2 artists>"
      ]
     },
     "execution_count": 16,
     "metadata": {},
     "output_type": "execute_result"
    },
    {
     "data": {
      "image/png": "[encoded data removed]",
      "text/plain": [
       "<Figure size 432x288 with 1 Axes>"
      ]
     },
     "metadata": {
      "needs_background": "light"
     },
     "output_type": "display_data"
    }
   ],
   "source": [
    "grouped=train.groupby(\"class_label\")\n",
    "label=grouped[\"class_label\"].count()\n",
    "plt.bar([0,1], label)"
   ]
  },
  {
   "cell_type": "code",
   "execution_count": 32,
   "metadata": {},
   "outputs": [
    {
     "name": "stdout",
     "output_type": "stream",
     "text": [
      "Y:  [('.', 469), ('the', 419), (',', 343), (':', 289), ('and', 272), ('to', 244), ('https', 224), ('of', 208), ('#', 180), ('vaccines', 174), ('a', 161), ('in', 141), ('@', 135), ('is', 129), ('for', 123), ('vaccine', 104), ('that', 92), ('are', 80), ('’', 71), ('COVID-19', 68), ('on', 67), ('not', 63), ('The', 60), ('have', 59), ('it', 59), ('you', 56), ('!', 51), ('people', 49), ('be', 48), (';', 48), ('has', 47), (\"'s\", 46), ('with', 45), ('will', 45), ('from', 45), ('this', 44), ('&', 42), ('about', 39), ('“', 39), ('they', 39), ('coronavirus', 38), ('can', 36), ('by', 36), ('”', 35), ('more', 35), ('Covid-19', 35), ('I', 33), ('-', 33), ('%', 32), ('COVID', 32)] \n",
      "\n",
      "N:  [('.', 4243), (':', 4041), ('the', 3986), ('and', 3574), (',', 3541), ('https', 3138), ('to', 3056), ('vaccines', 2316), ('of', 2126), ('#', 2104), ('@', 1763), ('COVID-19', 1528), ('in', 1430), ('a', 1256), ('for', 1250), ('vaccine', 1068), ('is', 993), ('are', 864), ('on', 805), ('that', 618), ('’', 604), ('with', 580), ('have', 566), ('The', 534), ('at', 481), ('be', 468), ('you', 459), ('from', 449), ('will', 449), (\"'s\", 431), ('it', 424), ('by', 423), ('about', 419), ('!', 403), ('more', 388), ('we', 383), ('I', 380), ('this', 379), (';', 370), ('Covid-19', 355), ('has', 349), ('as', 337), ('&', 333), ('s', 330), ('people', 319), ('get', 314), ('amp', 311), ('not', 298), ('COVID19', 294), ('our', 292)] \n",
      "\n"
     ]
    }
   ],
   "source": [
    "Y=train[train.class_label==1]\n",
    "N=train[train.class_label==0]\n",
    "\n",
    "Y_text=[]\n",
    "for i in Y[\"tweet_text\"]:\n",
    "    i=i.strip('\"')\n",
    "    Y_text.append(i)\n",
    "Y_text=\" \".join(Y_text)\n",
    "\n",
    "N_text=[]\n",
    "for i in N[\"tweet_text\"]:\n",
    "    i=i.strip('\"')\n",
    "    N_text.append(i)\n",
    "N_text=\" \".join(N_text)\n",
    "\n",
    "#stop_words=set(stopwords.words('english'))\n",
    "#stop_words.update({'.','@',',','#',':','!','A','I',')','(','//',\"'s\",'https','http','&',\"'m\",'The','?','By','-',';','...','[',']','|','s',\"'\",'/','*'})\n",
    "word_tokens=word_tokenize(Y_text)\n",
    "#final_text=[w for w in word_tokens if not w in stop_words]\n",
    "count=Counter(word_tokens)\n",
    "result=count.most_common(50)\n",
    "print(\"Y: \",result,'\\n')\n",
    "\n",
    "#stop_words=set(stopwords.words('english'))\n",
    "#stop_words.update({'.','@',',','#',':','!','A','I',')','(','//',\"'s\",'https','http','&',\"'m\",'The','?','By','-',';','...','[',']','|','s',\"'\",'/','*'})\n",
    "word_tokens=word_tokenize(N_text)\n",
    "#final_text=[w for w in word_tokens if not w in stop_words]\n",
    "count=Counter(word_tokens)\n",
    "result=count.most_common(50)\n",
    "print(\"N: \",result,'\\n')\n",
    "\n",
    "\n",
    "#{'.','the',',',':','and','to','https','of','#','a','in','for','that','’','is','are','on','it'}"
   ]
  },
  {
   "cell_type": "markdown",
   "metadata": {},
   "source": [
    "## Text Augmentation"
   ]
  },
  {
   "cell_type": "code",
   "execution_count": 3,
   "metadata": {},
   "outputs": [],
   "source": [
    "from textaugment import EDA\n",
    "\n",
    "def text_augment(data,n): # n:replace # of words\n",
    "    t=EDA()\n",
    "    positive_df=data[data.class_label==1]\n",
    "    negative_df=data[data.class_label==0]\n",
    "    add_text=[]\n",
    "    if len(positive_df)>len(negative_df):\n",
    "        for i in range(math.floor(len(positive_df)/len(negative_df))-1):\n",
    "            for j in range(len(negative_df)):\n",
    "                result=t.synonym_replacement(negative_df.iloc[j]['tweet_text'],n)\n",
    "                add_text.append([result,negative_df.iloc[j]['class_label']])\n",
    "    if len(positive_df)<len(negative_df):\n",
    "        for i in range(math.floor(len(negative_df)/len(positive_df))-1):\n",
    "            for j in range(len(positive_df)):\n",
    "                result=t.synonym_replacement(positive_df.iloc[j]['tweet_text'],n)\n",
    "                add_text.append([result,positive_df.iloc[j]['class_label']])\n",
    "    new=pd.concat([data,pd.DataFrame(add_text,columns=['tweet_text','class_label'])])\n",
    "    return new\n",
    "\n",
    "train=train.iloc[:,3:5]\n",
    "train=text_augment(train,5)"
   ]
  },
  {
   "cell_type": "markdown",
   "metadata": {},
   "source": [
    "## Preprocessing"
   ]
  },
  {
   "cell_type": "code",
   "execution_count": 3,
   "metadata": {},
   "outputs": [],
   "source": [
    "# corpus to Word2Vec\n",
    "def all_corpus(data,stopword=False):\n",
    "    positive_df=data[data.class_label==1]\n",
    "    negative_df=data[data.class_label==0]\n",
    "    positive_df=positive_df.dropna(subset=[\"tweet_text\"])\n",
    "    negative_df=negative_df.dropna(subset=[\"tweet_text\"])\n",
    "    positive_df=positive_df[\"tweet_text\"].reset_index()\n",
    "    for i in range(len(positive_df)):\n",
    "        word_tokens1=word_tokenize(positive_df['tweet_text'][i].lower())\n",
    "        final_text1=word_tokens1\n",
    "        if stopword==True:\n",
    "            stop_words=set(stopwords.words('english'))\n",
    "            final_text1=[w for w in word_tokens1 if not w in stop_words]\n",
    "        positive_df['tweet_text'][i]=final_text1\n",
    "    positive_df=positive_df.drop('index',axis=1)\n",
    "    positive_df['class_label']=np.repeat(1,len(positive_df))\n",
    "    negative_df=negative_df[\"tweet_text\"].reset_index()\n",
    "    for i in range(len(negative_df)):\n",
    "        word_tokens2=word_tokenize(negative_df['tweet_text'][i].lower())\n",
    "        final_text2=word_tokens2\n",
    "        if stopword==True:\n",
    "            stop_words=set(stopwords.words('english'))\n",
    "            final_text2=[w for w in word_tokens2 if not w in stop_words]\n",
    "        negative_df['tweet_text'][i]=final_text2\n",
    "    negative_df=negative_df.drop('index',axis=1)\n",
    "    negative_df['class_label']=np.repeat(0,len(negative_df))\n",
    "    ddf=pd.concat([positive_df,negative_df])\n",
    "    return ddf\n",
    "\n",
    "def text_to_index(corpus_all,word2idx):\n",
    "    new_corpus=[]\n",
    "    for doc in corpus_all:\n",
    "        new_doc=[]\n",
    "        for word in doc:\n",
    "            try:\n",
    "                new_doc.append(word2idx[word])\n",
    "            except:\n",
    "                new_doc.append(0)\n",
    "        new_corpus.append(new_doc)\n",
    "    return np.array(new_corpus)\n",
    "\n",
    "# model\n",
    "def RNN_model(embedding_layer):\n",
    "    optimizer=Adam(learning_rate=0.00001)\n",
    "    model=Sequential()\n",
    "    model.add(embedding_layer)\n",
    "    model.add(SimpleRNN(64))\n",
    "    model.add(Dense(32,activation='relu'))\n",
    "    model.add(Dropout(0.2))\n",
    "    model.add(Dense(1,activation='sigmoid'))\n",
    "    model.compile(optimizer=optimizer,loss='binary_crossentropy',metrics=['accuracy'])\n",
    "    return model\n",
    "\n",
    "def GRU_model(embedding_layer):\n",
    "    optimizer=Adam(learning_rate=0.00001)\n",
    "    model=Sequential()\n",
    "    model.add(embedding_layer)\n",
    "    model.add(GRU(64))\n",
    "    model.add(Dense(32,activation='relu'))\n",
    "    model.add(Dropout(0.2))\n",
    "    model.add(Dense(1,activation='sigmoid'))\n",
    "    model.compile(optimizer=optimizer,loss='binary_crossentropy',metrics=['accuracy'])\n",
    "    return model\n",
    "\n",
    "def LSTM_model(embedding_layer):\n",
    "    optimizer=Adam(learning_rate=0.00001)\n",
    "    model=Sequential()\n",
    "    model.add(embedding_layer)\n",
    "    model.add(LSTM(64))\n",
    "    model.add(Dense(32,activation='relu'))\n",
    "    model.add(Dropout(0.2))\n",
    "    model.add(Dense(1,activation='sigmoid'))\n",
    "    model.compile(optimizer=optimizer,loss='binary_crossentropy',metrics=['accuracy'])\n",
    "    return model\n",
    "\n",
    "# plot\n",
    "def chart(fit_details, metric):\n",
    "    plt.plot(fit_details.history[metric])\n",
    "    plt.plot(fit_details.history['val_'+metric], '')\n",
    "    plt.xlabel(\"Epochs\")\n",
    "    plt.ylabel(metric)\n",
    "    plt.legend([metric, 'val_'+metric])\n",
    "    plt.show()"
   ]
  },
  {
   "cell_type": "code",
   "execution_count": 4,
   "metadata": {},
   "outputs": [
    {
     "name": "stderr",
     "output_type": "stream",
     "text": [
      "C:\\Users\\YINGJH~1\\AppData\\Local\\Temp/ipykernel_26656/552860300.py:14: SettingWithCopyWarning: \n",
      "A value is trying to be set on a copy of a slice from a DataFrame\n",
      "\n",
      "See the caveats in the documentation: https://pandas.pydata.org/pandas-docs/stable/user_guide/indexing.html#returning-a-view-versus-a-copy\n",
      "  positive_df['tweet_text'][i]=final_text1\n",
      "C:\\Users\\YINGJH~1\\AppData\\Local\\Temp/ipykernel_26656/552860300.py:24: SettingWithCopyWarning: \n",
      "A value is trying to be set on a copy of a slice from a DataFrame\n",
      "\n",
      "See the caveats in the documentation: https://pandas.pydata.org/pandas-docs/stable/user_guide/indexing.html#returning-a-view-versus-a-copy\n",
      "  negative_df['tweet_text'][i]=final_text2\n",
      "C:\\Users\\YINGJH~1\\AppData\\Local\\Temp/ipykernel_26656/552860300.py:40: VisibleDeprecationWarning: Creating an ndarray from ragged nested sequences (which is a list-or-tuple of lists-or-tuples-or ndarrays with different lengths or shapes) is deprecated. If you meant to do this, you must specify 'dtype=object' when creating the ndarray.\n",
      "  return np.array(new_corpus)\n"
     ]
    }
   ],
   "source": [
    "random.seed(200)\n",
    "np.random.seed(200)\n",
    "tf.random.set_seed(200)\n",
    "\n",
    "stopword=True\n",
    "train_data=train\n",
    "test_data=test\n",
    "train_data=all_corpus(train_data,stopword=stopword)\n",
    "test_data=all_corpus(test_data,stopword=stopword)\n",
    "corpus=pd.concat([train_data.tweet_text,test_data.tweet_text])\n",
    "w2v_model=Word2Vec(corpus,vector_size=500,epochs=10,sg=1)\n",
    "embedding_matrix=np.zeros((len(w2v_model.wv.key_to_index.items())+1,w2v_model.vector_size))\n",
    "#w2v_model=gensim.models.KeyedVectors.load_word2vec_format('C:/Users/Ying Jhu/Desktop/y_360W_cbow_2D_100dim_2020v1.bin',unicode_errors='ignore',binary=True)\n",
    "#embedding_matrix=np.zeros((len(w2v_model.key_to_index.items())+1,w2v_model.vector_size))\n",
    "word2idx={}\n",
    "vocab_list=[(word,w2v_model.wv[word]) for word,_ in w2v_model.wv.key_to_index.items()]\n",
    "#vocab_list=[(word,w2v_model[word]) for word,_ in w2v_model.key_to_index.items()]\n",
    "for i,vocab in enumerate(vocab_list):\n",
    "    word,vec=vocab\n",
    "    embedding_matrix[i+1]=vec\n",
    "    word2idx[word]=i+1\n",
    "embedding_layer=Embedding(input_dim=embedding_matrix.shape[0],output_dim=embedding_matrix.shape[1],weights=[embedding_matrix],trainable=True)\n",
    "np.random.seed(200)\n",
    "train_data=train_data.sample(frac=1).reset_index(drop=True)\n",
    "np.random.seed(200)\n",
    "test_data=test_data.sample(frac=1).reset_index(drop=True)\n",
    "X=text_to_index(train_data.tweet_text,word2idx)\n",
    "X=pad_sequences(X,maxlen=60,padding='post')\n",
    "Y=train_data.class_label\n",
    "X_test=text_to_index(test_data.tweet_text,word2idx)\n",
    "X_test=pad_sequences(X_test,maxlen=60,padding='post')\n",
    "Y_test=test_data.class_label"
   ]
  },
  {
   "cell_type": "markdown",
   "metadata": {},
   "source": [
    "## Modeling"
   ]
  },
  {
   "cell_type": "code",
   "execution_count": 8,
   "metadata": {},
   "outputs": [
    {
     "name": "stdout",
     "output_type": "stream",
     "text": [
      "Epoch 1/100\n",
      "163/163 [==============================] - 3s 12ms/step - loss: 0.6935 - accuracy: 0.4896 - val_loss: 0.6929 - val_accuracy: 0.5004\n",
      "Epoch 2/100\n",
      "163/163 [==============================] - 1s 9ms/step - loss: 0.6931 - accuracy: 0.4940 - val_loss: 0.6929 - val_accuracy: 0.4973\n",
      "Epoch 3/100\n",
      "163/163 [==============================] - 1s 9ms/step - loss: 0.6928 - accuracy: 0.4994 - val_loss: 0.6928 - val_accuracy: 0.5027\n",
      "Epoch 4/100\n",
      "163/163 [==============================] - 1s 9ms/step - loss: 0.6929 - accuracy: 0.4988 - val_loss: 0.6927 - val_accuracy: 0.5019\n",
      "Epoch 5/100\n",
      "163/163 [==============================] - 1s 9ms/step - loss: 0.6929 - accuracy: 0.5081 - val_loss: 0.6927 - val_accuracy: 0.5012\n",
      "Epoch 6/100\n",
      "163/163 [==============================] - 1s 9ms/step - loss: 0.6927 - accuracy: 0.5115 - val_loss: 0.6927 - val_accuracy: 0.5012\n",
      "Epoch 7/100\n",
      "163/163 [==============================] - 1s 9ms/step - loss: 0.6927 - accuracy: 0.5035 - val_loss: 0.6926 - val_accuracy: 0.5012\n",
      "Epoch 8/100\n",
      "163/163 [==============================] - 1s 9ms/step - loss: 0.6925 - accuracy: 0.5083 - val_loss: 0.6926 - val_accuracy: 0.5012\n",
      "Epoch 9/100\n",
      "163/163 [==============================] - 1s 9ms/step - loss: 0.6926 - accuracy: 0.5063 - val_loss: 0.6926 - val_accuracy: 0.5012\n",
      "Epoch 10/100\n",
      "163/163 [==============================] - 1s 9ms/step - loss: 0.6924 - accuracy: 0.5131 - val_loss: 0.6926 - val_accuracy: 0.5012\n",
      "Epoch 11/100\n",
      "163/163 [==============================] - 1s 9ms/step - loss: 0.6923 - accuracy: 0.5094 - val_loss: 0.6925 - val_accuracy: 0.5012\n",
      "Epoch 12/100\n",
      "163/163 [==============================] - 1s 9ms/step - loss: 0.6925 - accuracy: 0.5098 - val_loss: 0.6925 - val_accuracy: 0.5012\n",
      "Epoch 13/100\n",
      "163/163 [==============================] - 1s 9ms/step - loss: 0.6923 - accuracy: 0.5088 - val_loss: 0.6925 - val_accuracy: 0.5012\n",
      "Epoch 14/100\n",
      "163/163 [==============================] - 1s 9ms/step - loss: 0.6923 - accuracy: 0.5123 - val_loss: 0.6924 - val_accuracy: 0.5012\n",
      "Epoch 15/100\n",
      "163/163 [==============================] - 1s 9ms/step - loss: 0.6923 - accuracy: 0.5132 - val_loss: 0.6924 - val_accuracy: 0.5019\n",
      "Epoch 16/100\n",
      "163/163 [==============================] - 1s 9ms/step - loss: 0.6921 - accuracy: 0.5113 - val_loss: 0.6924 - val_accuracy: 0.5019\n",
      "Epoch 17/100\n",
      "163/163 [==============================] - 1s 9ms/step - loss: 0.6922 - accuracy: 0.5100 - val_loss: 0.6924 - val_accuracy: 0.5019\n",
      "Epoch 18/100\n",
      "163/163 [==============================] - 1s 9ms/step - loss: 0.6920 - accuracy: 0.5081 - val_loss: 0.6924 - val_accuracy: 0.5019\n",
      "Epoch 19/100\n",
      "163/163 [==============================] - 1s 9ms/step - loss: 0.6921 - accuracy: 0.5090 - val_loss: 0.6924 - val_accuracy: 0.5019\n",
      "Epoch 20/100\n",
      "163/163 [==============================] - 1s 8ms/step - loss: 0.6921 - accuracy: 0.5090 - val_loss: 0.6923 - val_accuracy: 0.5012\n",
      "Epoch 21/100\n",
      "163/163 [==============================] - 1s 8ms/step - loss: 0.6921 - accuracy: 0.5123 - val_loss: 0.6923 - val_accuracy: 0.5019\n",
      "Epoch 22/100\n",
      "163/163 [==============================] - 1s 8ms/step - loss: 0.6920 - accuracy: 0.5069 - val_loss: 0.6923 - val_accuracy: 0.5019\n",
      "Epoch 23/100\n",
      "163/163 [==============================] - 1s 8ms/step - loss: 0.6918 - accuracy: 0.5086 - val_loss: 0.6923 - val_accuracy: 0.5019\n",
      "Epoch 24/100\n",
      "163/163 [==============================] - 1s 8ms/step - loss: 0.6921 - accuracy: 0.5086 - val_loss: 0.6923 - val_accuracy: 0.5019\n",
      "Epoch 25/100\n",
      "163/163 [==============================] - 1s 8ms/step - loss: 0.6921 - accuracy: 0.5096 - val_loss: 0.6922 - val_accuracy: 0.5019\n",
      "Epoch 26/100\n",
      "163/163 [==============================] - 1s 8ms/step - loss: 0.6917 - accuracy: 0.5071 - val_loss: 0.6922 - val_accuracy: 0.5019\n",
      "Epoch 27/100\n",
      "163/163 [==============================] - 1s 8ms/step - loss: 0.6921 - accuracy: 0.5086 - val_loss: 0.6922 - val_accuracy: 0.5019\n",
      "Epoch 28/100\n",
      "163/163 [==============================] - 1s 8ms/step - loss: 0.6918 - accuracy: 0.5100 - val_loss: 0.6922 - val_accuracy: 0.5019\n",
      "Epoch 29/100\n",
      "163/163 [==============================] - 1s 8ms/step - loss: 0.6918 - accuracy: 0.5106 - val_loss: 0.6922 - val_accuracy: 0.5019\n",
      "Epoch 30/100\n",
      "163/163 [==============================] - 1s 8ms/step - loss: 0.6918 - accuracy: 0.5084 - val_loss: 0.6921 - val_accuracy: 0.5019\n",
      "Epoch 31/100\n",
      "163/163 [==============================] - 1s 8ms/step - loss: 0.6917 - accuracy: 0.5108 - val_loss: 0.6921 - val_accuracy: 0.5019\n",
      "Epoch 32/100\n",
      "163/163 [==============================] - 1s 8ms/step - loss: 0.6917 - accuracy: 0.5096 - val_loss: 0.6921 - val_accuracy: 0.5019\n",
      "Epoch 33/100\n",
      "163/163 [==============================] - 1s 8ms/step - loss: 0.6917 - accuracy: 0.5106 - val_loss: 0.6921 - val_accuracy: 0.5019\n",
      "Epoch 34/100\n",
      "163/163 [==============================] - 1s 8ms/step - loss: 0.6917 - accuracy: 0.5098 - val_loss: 0.6921 - val_accuracy: 0.5019\n",
      "Epoch 35/100\n",
      "163/163 [==============================] - 1s 8ms/step - loss: 0.6916 - accuracy: 0.5108 - val_loss: 0.6921 - val_accuracy: 0.5019\n",
      "Epoch 36/100\n",
      "163/163 [==============================] - 1s 8ms/step - loss: 0.6916 - accuracy: 0.5106 - val_loss: 0.6920 - val_accuracy: 0.5019\n",
      "Epoch 37/100\n",
      "163/163 [==============================] - 1s 8ms/step - loss: 0.6917 - accuracy: 0.5100 - val_loss: 0.6920 - val_accuracy: 0.5019\n",
      "Epoch 38/100\n",
      "163/163 [==============================] - 1s 8ms/step - loss: 0.6915 - accuracy: 0.5111 - val_loss: 0.6920 - val_accuracy: 0.5019\n",
      "Epoch 39/100\n",
      "163/163 [==============================] - 1s 8ms/step - loss: 0.6915 - accuracy: 0.5129 - val_loss: 0.6920 - val_accuracy: 0.5019\n",
      "Epoch 40/100\n",
      "163/163 [==============================] - 1s 8ms/step - loss: 0.6914 - accuracy: 0.5106 - val_loss: 0.6920 - val_accuracy: 0.5019\n",
      "Epoch 41/100\n",
      "163/163 [==============================] - 1s 8ms/step - loss: 0.6913 - accuracy: 0.5115 - val_loss: 0.6920 - val_accuracy: 0.5019\n",
      "Epoch 42/100\n",
      "163/163 [==============================] - 1s 8ms/step - loss: 0.6914 - accuracy: 0.5119 - val_loss: 0.6920 - val_accuracy: 0.5019\n",
      "Epoch 43/100\n",
      "163/163 [==============================] - 1s 8ms/step - loss: 0.6913 - accuracy: 0.5142 - val_loss: 0.6919 - val_accuracy: 0.5019\n",
      "Epoch 44/100\n",
      "163/163 [==============================] - 1s 8ms/step - loss: 0.6913 - accuracy: 0.5115 - val_loss: 0.6919 - val_accuracy: 0.5019\n",
      "Epoch 45/100\n",
      "163/163 [==============================] - 1s 8ms/step - loss: 0.6911 - accuracy: 0.5117 - val_loss: 0.6919 - val_accuracy: 0.5019\n",
      "Epoch 46/100\n",
      "163/163 [==============================] - 1s 8ms/step - loss: 0.6913 - accuracy: 0.5129 - val_loss: 0.6919 - val_accuracy: 0.5019\n",
      "Epoch 47/100\n",
      "163/163 [==============================] - 1s 8ms/step - loss: 0.6912 - accuracy: 0.5117 - val_loss: 0.6919 - val_accuracy: 0.5019\n",
      "Epoch 48/100\n",
      "163/163 [==============================] - 1s 8ms/step - loss: 0.6911 - accuracy: 0.5088 - val_loss: 0.6919 - val_accuracy: 0.5019\n",
      "Epoch 49/100\n",
      "163/163 [==============================] - 1s 8ms/step - loss: 0.6912 - accuracy: 0.5123 - val_loss: 0.6918 - val_accuracy: 0.5019\n",
      "Epoch 50/100\n",
      "163/163 [==============================] - 1s 8ms/step - loss: 0.6910 - accuracy: 0.5109 - val_loss: 0.6918 - val_accuracy: 0.5027\n",
      "Epoch 51/100\n",
      "163/163 [==============================] - 1s 8ms/step - loss: 0.6910 - accuracy: 0.5115 - val_loss: 0.6918 - val_accuracy: 0.5027\n",
      "Epoch 52/100\n",
      "163/163 [==============================] - 1s 8ms/step - loss: 0.6909 - accuracy: 0.5132 - val_loss: 0.6918 - val_accuracy: 0.5027\n",
      "Epoch 53/100\n",
      "163/163 [==============================] - 1s 8ms/step - loss: 0.6911 - accuracy: 0.5104 - val_loss: 0.6918 - val_accuracy: 0.5019\n",
      "Epoch 54/100\n",
      "163/163 [==============================] - 1s 8ms/step - loss: 0.6910 - accuracy: 0.5115 - val_loss: 0.6918 - val_accuracy: 0.5019\n",
      "Epoch 55/100\n",
      "163/163 [==============================] - 1s 8ms/step - loss: 0.6908 - accuracy: 0.5123 - val_loss: 0.6918 - val_accuracy: 0.5027\n",
      "Epoch 56/100\n",
      "163/163 [==============================] - 1s 8ms/step - loss: 0.6910 - accuracy: 0.5115 - val_loss: 0.6918 - val_accuracy: 0.5027\n",
      "Epoch 57/100\n",
      "163/163 [==============================] - 1s 8ms/step - loss: 0.6908 - accuracy: 0.5123 - val_loss: 0.6917 - val_accuracy: 0.5027\n",
      "Epoch 58/100\n",
      "163/163 [==============================] - 1s 8ms/step - loss: 0.6908 - accuracy: 0.5125 - val_loss: 0.6917 - val_accuracy: 0.5027\n",
      "Epoch 59/100\n",
      "163/163 [==============================] - 1s 8ms/step - loss: 0.6906 - accuracy: 0.5121 - val_loss: 0.6917 - val_accuracy: 0.5027\n",
      "Epoch 60/100\n",
      "163/163 [==============================] - 1s 8ms/step - loss: 0.6907 - accuracy: 0.5140 - val_loss: 0.6916 - val_accuracy: 0.5027\n",
      "Epoch 61/100\n",
      "163/163 [==============================] - 1s 8ms/step - loss: 0.6906 - accuracy: 0.5119 - val_loss: 0.6917 - val_accuracy: 0.5027\n",
      "Epoch 62/100\n",
      "163/163 [==============================] - 1s 8ms/step - loss: 0.6904 - accuracy: 0.5131 - val_loss: 0.6916 - val_accuracy: 0.5027\n",
      "Epoch 63/100\n",
      "163/163 [==============================] - 1s 8ms/step - loss: 0.6905 - accuracy: 0.5131 - val_loss: 0.6916 - val_accuracy: 0.5042\n",
      "Epoch 64/100\n",
      "163/163 [==============================] - 1s 8ms/step - loss: 0.6905 - accuracy: 0.5117 - val_loss: 0.6915 - val_accuracy: 0.5050\n",
      "Epoch 65/100\n",
      "163/163 [==============================] - 1s 8ms/step - loss: 0.6902 - accuracy: 0.5136 - val_loss: 0.6915 - val_accuracy: 0.5042\n",
      "Epoch 66/100\n",
      "163/163 [==============================] - 1s 8ms/step - loss: 0.6904 - accuracy: 0.5127 - val_loss: 0.6915 - val_accuracy: 0.5050\n",
      "Epoch 67/100\n",
      "163/163 [==============================] - 1s 8ms/step - loss: 0.6902 - accuracy: 0.5134 - val_loss: 0.6915 - val_accuracy: 0.5058\n",
      "Epoch 68/100\n",
      "163/163 [==============================] - 1s 8ms/step - loss: 0.6903 - accuracy: 0.5161 - val_loss: 0.6914 - val_accuracy: 0.5058\n",
      "Epoch 69/100\n",
      "163/163 [==============================] - 1s 8ms/step - loss: 0.6901 - accuracy: 0.5140 - val_loss: 0.6914 - val_accuracy: 0.5058\n",
      "Epoch 70/100\n",
      "163/163 [==============================] - 1s 8ms/step - loss: 0.6901 - accuracy: 0.5142 - val_loss: 0.6914 - val_accuracy: 0.5073\n",
      "Epoch 71/100\n",
      "163/163 [==============================] - 1s 8ms/step - loss: 0.6901 - accuracy: 0.5144 - val_loss: 0.6914 - val_accuracy: 0.5073\n",
      "Epoch 72/100\n",
      "163/163 [==============================] - 1s 8ms/step - loss: 0.6901 - accuracy: 0.5173 - val_loss: 0.6913 - val_accuracy: 0.5096\n",
      "Epoch 73/100\n",
      "163/163 [==============================] - 1s 8ms/step - loss: 0.6900 - accuracy: 0.5121 - val_loss: 0.6912 - val_accuracy: 0.5096\n",
      "Epoch 74/100\n",
      "163/163 [==============================] - 1s 8ms/step - loss: 0.6898 - accuracy: 0.5169 - val_loss: 0.6912 - val_accuracy: 0.5096\n",
      "Epoch 75/100\n",
      "163/163 [==============================] - 1s 8ms/step - loss: 0.6899 - accuracy: 0.5179 - val_loss: 0.6911 - val_accuracy: 0.5096\n",
      "Epoch 76/100\n",
      "163/163 [==============================] - 1s 8ms/step - loss: 0.6897 - accuracy: 0.5148 - val_loss: 0.6911 - val_accuracy: 0.5096\n",
      "Epoch 77/100\n",
      "163/163 [==============================] - 1s 8ms/step - loss: 0.6894 - accuracy: 0.5150 - val_loss: 0.6910 - val_accuracy: 0.5104\n",
      "Epoch 78/100\n",
      "163/163 [==============================] - 1s 8ms/step - loss: 0.6894 - accuracy: 0.5182 - val_loss: 0.6909 - val_accuracy: 0.5111\n",
      "Epoch 79/100\n",
      "163/163 [==============================] - 1s 8ms/step - loss: 0.6898 - accuracy: 0.5179 - val_loss: 0.6909 - val_accuracy: 0.5111\n",
      "Epoch 80/100\n",
      "163/163 [==============================] - 1s 8ms/step - loss: 0.6895 - accuracy: 0.5223 - val_loss: 0.6907 - val_accuracy: 0.5127\n",
      "Epoch 81/100\n",
      "163/163 [==============================] - 1s 8ms/step - loss: 0.6893 - accuracy: 0.5223 - val_loss: 0.6907 - val_accuracy: 0.5119\n",
      "Epoch 82/100\n",
      "163/163 [==============================] - 1s 8ms/step - loss: 0.6891 - accuracy: 0.5248 - val_loss: 0.6905 - val_accuracy: 0.5142\n",
      "Epoch 83/100\n",
      "163/163 [==============================] - 1s 8ms/step - loss: 0.6889 - accuracy: 0.5228 - val_loss: 0.6903 - val_accuracy: 0.5173\n",
      "Epoch 84/100\n",
      "163/163 [==============================] - 1s 8ms/step - loss: 0.6888 - accuracy: 0.5240 - val_loss: 0.6901 - val_accuracy: 0.5173\n",
      "Epoch 85/100\n",
      "163/163 [==============================] - 1s 8ms/step - loss: 0.6883 - accuracy: 0.5284 - val_loss: 0.6896 - val_accuracy: 0.5242\n",
      "Epoch 86/100\n",
      "163/163 [==============================] - 1s 8ms/step - loss: 0.6880 - accuracy: 0.5344 - val_loss: 0.6890 - val_accuracy: 0.5280\n",
      "Epoch 87/100\n",
      "163/163 [==============================] - 1s 8ms/step - loss: 0.6870 - accuracy: 0.5403 - val_loss: 0.6877 - val_accuracy: 0.5579\n",
      "Epoch 88/100\n",
      "163/163 [==============================] - 1s 8ms/step - loss: 0.6850 - accuracy: 0.5641 - val_loss: 0.6841 - val_accuracy: 0.5863\n",
      "Epoch 89/100\n",
      "163/163 [==============================] - 1s 8ms/step - loss: 0.6740 - accuracy: 0.6415 - val_loss: 0.6541 - val_accuracy: 0.7084\n",
      "Epoch 90/100\n",
      "163/163 [==============================] - 1s 8ms/step - loss: 0.5607 - accuracy: 0.7961 - val_loss: 0.4692 - val_accuracy: 0.8480\n",
      "Epoch 91/100\n",
      "163/163 [==============================] - 1s 8ms/step - loss: 0.4395 - accuracy: 0.8677 - val_loss: 0.4088 - val_accuracy: 0.8703\n",
      "Epoch 92/100\n",
      "163/163 [==============================] - 1s 8ms/step - loss: 0.3824 - accuracy: 0.8881 - val_loss: 0.3691 - val_accuracy: 0.8787\n",
      "Epoch 93/100\n",
      "163/163 [==============================] - 1s 8ms/step - loss: 0.3358 - accuracy: 0.9044 - val_loss: 0.3363 - val_accuracy: 0.8979\n",
      "Epoch 94/100\n",
      "163/163 [==============================] - 1s 8ms/step - loss: 0.3018 - accuracy: 0.9128 - val_loss: 0.3093 - val_accuracy: 0.8987\n",
      "Epoch 95/100\n",
      "163/163 [==============================] - 1s 8ms/step - loss: 0.2721 - accuracy: 0.9219 - val_loss: 0.2906 - val_accuracy: 0.9079\n",
      "Epoch 96/100\n",
      "163/163 [==============================] - 1s 8ms/step - loss: 0.2519 - accuracy: 0.9268 - val_loss: 0.2822 - val_accuracy: 0.9033\n",
      "Epoch 97/100\n",
      "163/163 [==============================] - 1s 8ms/step - loss: 0.2349 - accuracy: 0.9332 - val_loss: 0.2671 - val_accuracy: 0.9117\n",
      "Epoch 98/100\n",
      "163/163 [==============================] - 1s 8ms/step - loss: 0.2139 - accuracy: 0.9418 - val_loss: 0.2552 - val_accuracy: 0.9194\n",
      "Epoch 99/100\n",
      "163/163 [==============================] - 1s 8ms/step - loss: 0.1995 - accuracy: 0.9474 - val_loss: 0.2453 - val_accuracy: 0.9240\n",
      "Epoch 100/100\n",
      "163/163 [==============================] - 1s 8ms/step - loss: 0.1837 - accuracy: 0.9526 - val_loss: 0.2399 - val_accuracy: 0.9233\n"
     ]
    },
    {
     "data": {
      "image/png": "[encoded data removed]",
      "text/plain": [
       "<Figure size 1152x576 with 1 Axes>"
      ]
     },
     "metadata": {
      "needs_background": "light"
     },
     "output_type": "display_data"
    },
    {
     "data": {
      "image/png": "[encoded data removed]",
      "text/plain": [
       "<Figure size 1152x576 with 1 Axes>"
      ]
     },
     "metadata": {
      "needs_background": "light"
     },
     "output_type": "display_data"
    },
    {
     "name": "stdout",
     "output_type": "stream",
     "text": [
      "Test Accuracy: 0.89670\n",
      "Test Precision: 0.39655\n",
      "Test Recall: 0.28049\n",
      "Test F1: 0.32857\n"
     ]
    }
   ],
   "source": [
    "model=GRU_model(embedding_layer)\n",
    "fit_=model.fit(x=X,y=Y,epochs=100,validation_split=0.2)\n",
    "plt.figure(figsize=(16,8))\n",
    "plt.subplot(1,2,1)\n",
    "chart(fit_,'accuracy')\n",
    "plt.figure(figsize=(16,8))\n",
    "plt.subplot(1,2,2)\n",
    "chart(fit_,'loss')\n",
    "Y_preds=model.predict(X_test)\n",
    "Y_preds_label=np.round(Y_preds)\n",
    "Y_label=test_data.class_label.tolist()\n",
    "print(\"Test Accuracy: %.5f\" %accuracy_score(Y_label,Y_preds_label))\n",
    "print(\"Test Precision: %.5f\" %precision_score(Y_label,Y_preds_label)) \n",
    "print(\"Test Recall: %.5f\" %recall_score(Y_label,Y_preds_label)) \n",
    "print(\"Test F1: %.5f\" %f1_score(Y_label,Y_preds_label)) "
   ]
  },
  {
   "cell_type": "markdown",
   "metadata": {},
   "source": [
    "## TFIDF"
   ]
  },
  {
   "cell_type": "code",
   "execution_count": 9,
   "metadata": {},
   "outputs": [
    {
     "name": "stdout",
     "output_type": "stream",
     "text": [
      "accuracy= 0.9076923076923077\n",
      "              precision    recall  f1-score   support\n",
      "\n",
      "           0       0.93      0.97      0.95       828\n",
      "           1       0.48      0.24      0.32        82\n",
      "\n",
      "    accuracy                           0.91       910\n",
      "   macro avg       0.70      0.61      0.64       910\n",
      "weighted avg       0.89      0.91      0.89       910\n",
      "\n"
     ]
    }
   ],
   "source": [
    "stopword=set(stopwords.words('english'))\n",
    "vectorizer=tfidf(stop_words=stopword,ngram_range=(1,2),max_features=500000)\n",
    "vectorizer.fit(train['tweet_text'])\n",
    "x_train=vectorizer.transform(train['tweet_text'])\n",
    "y_train=train['class_label']\n",
    "x_test=vectorizer.transform(test['tweet_text'])\n",
    "y_test=test['class_label']\n",
    "clf=LogisticRegressionCV()\n",
    "clf.fit(x_train,y_train)\n",
    "pred= clf.predict(x_test)\n",
    "print('accuracy=',accuracy_score(y_test,pred))\n",
    "print(classification_report(y_test, pred))"
   ]
  },
  {
   "cell_type": "code",
   "execution_count": 10,
   "metadata": {},
   "outputs": [
    {
     "name": "stdout",
     "output_type": "stream",
     "text": [
      "Test Accuracy: 0.90769\n",
      "Test Precision: 0.47619\n",
      "Test Recall: 0.24390\n",
      "Test F1: 0.32258\n"
     ]
    }
   ],
   "source": [
    "print(\"Test Accuracy: %.5f\" %accuracy_score(y_test,pred))\n",
    "print(\"Test Precision: %.5f\" %precision_score(y_test,pred)) \n",
    "print(\"Test Recall: %.5f\" %recall_score(y_test,pred)) \n",
    "print(\"Test F1: %.5f\" %f1_score(y_test,pred)) "
   ]
  },
  {
   "cell_type": "markdown",
   "metadata": {},
   "source": [
    "## BERT"
   ]
  },
  {
   "cell_type": "code",
   "execution_count": null,
   "metadata": {},
   "outputs": [],
   "source": [
    "# https://huggingface.co/docs/transformers/main/en/index"
   ]
  },
  {
   "cell_type": "code",
   "execution_count": 11,
   "metadata": {},
   "outputs": [
    {
     "name": "stderr",
     "output_type": "stream",
     "text": [
      "Truncation was not explicitly activated but `max_length` is provided a specific value, please use `truncation=True` to explicitly truncate examples to max length. Defaulting to 'longest_first' truncation strategy. If you encode pairs of sequences (GLUE-style) with the tokenizer you can select this strategy more precisely by providing a specific strategy to `truncation`.\n",
      "c:\\Users\\Ying Jhu\\anaconda3\\envs\\env_1\\lib\\site-packages\\transformers\\tokenization_utils_base.py:2271: FutureWarning: The `pad_to_max_length` argument is deprecated and will be removed in a future version, use `padding=True` or `padding='longest'` to pad to the longest sequence in the batch, or use `padding='max_length'` to pad to a max length. In this case, you can give a specific length with `max_length` (e.g. `max_length=45`) or leave max_length to None to pad to the maximal input size of the model (e.g. 512 for Bert).\n",
      "  warnings.warn(\n",
      "Some weights of the model checkpoint at bert-base-uncased were not used when initializing BertForSequenceClassification: ['cls.predictions.transform.LayerNorm.weight', 'cls.predictions.decoder.weight', 'cls.seq_relationship.weight', 'cls.predictions.transform.dense.weight', 'cls.predictions.transform.dense.bias', 'cls.predictions.bias', 'cls.seq_relationship.bias', 'cls.predictions.transform.LayerNorm.bias']\n",
      "- This IS expected if you are initializing BertForSequenceClassification from the checkpoint of a model trained on another task or with another architecture (e.g. initializing a BertForSequenceClassification model from a BertForPreTraining model).\n",
      "- This IS NOT expected if you are initializing BertForSequenceClassification from the checkpoint of a model that you expect to be exactly identical (initializing a BertForSequenceClassification model from a BertForSequenceClassification model).\n",
      "Some weights of BertForSequenceClassification were not initialized from the model checkpoint at bert-base-uncased and are newly initialized: ['classifier.bias', 'classifier.weight']\n",
      "You should probably TRAIN this model on a down-stream task to be able to use it for predictions and inference.\n",
      "c:\\Users\\Ying Jhu\\anaconda3\\envs\\env_1\\lib\\site-packages\\transformers\\optimization.py:306: FutureWarning: This implementation of AdamW is deprecated and will be removed in a future version. Use the PyTorch implementation torch.optim.AdamW instead, or set `no_deprecation_warning=True` to disable this warning\n",
      "  warnings.warn(\n"
     ]
    },
    {
     "name": "stdout",
     "output_type": "stream",
     "text": [
      "cuda:0\n"
     ]
    },
    {
     "name": "stderr",
     "output_type": "stream",
     "text": [
      "  0%|          | 0/10 [01:42<?, ?it/s]"
     ]
    },
    {
     "name": "stdout",
     "output_type": "stream",
     "text": [
      "\n",
      "Epoch {epoch}\n",
      "Training loss:0.32740770642061706\n"
     ]
    },
    {
     "name": "stderr",
     "output_type": "stream",
     "text": [
      " 10%|█         | 1/10 [01:44<15:37, 104.16s/it]"
     ]
    },
    {
     "name": "stdout",
     "output_type": "stream",
     "text": [
      "Val loss: 0.49107029378927985\n",
      "f1 score: 0.5623536299765808\n",
      "Acc score: 0.8989010989010989\n"
     ]
    },
    {
     "name": "stderr",
     "output_type": "stream",
     "text": [
      " 10%|█         | 1/10 [03:23<15:37, 104.16s/it]"
     ]
    },
    {
     "name": "stdout",
     "output_type": "stream",
     "text": [
      "\n",
      "Epoch {epoch}\n",
      "Training loss:0.11045629180085446\n"
     ]
    },
    {
     "name": "stderr",
     "output_type": "stream",
     "text": [
      " 20%|██        | 2/10 [03:25<13:37, 102.22s/it]"
     ]
    },
    {
     "name": "stdout",
     "output_type": "stream",
     "text": [
      "Val loss: 0.5647968192913987\n",
      "f1 score: 0.6046457741991542\n",
      "Acc score: 0.9010989010989011\n"
     ]
    },
    {
     "name": "stderr",
     "output_type": "stream",
     "text": [
      " 20%|██        | 2/10 [05:03<13:37, 102.22s/it]"
     ]
    },
    {
     "name": "stdout",
     "output_type": "stream",
     "text": [
      "\n",
      "Epoch {epoch}\n",
      "Training loss:0.03868819420032913\n"
     ]
    },
    {
     "name": "stderr",
     "output_type": "stream",
     "text": [
      " 30%|███       | 3/10 [05:05<11:49, 101.40s/it]"
     ]
    },
    {
     "name": "stdout",
     "output_type": "stream",
     "text": [
      "Val loss: 0.7369356509157585\n",
      "f1 score: 0.5492173223839194\n",
      "Acc score: 0.9010989010989011\n"
     ]
    },
    {
     "name": "stderr",
     "output_type": "stream",
     "text": [
      " 30%|███       | 3/10 [06:44<11:49, 101.40s/it]"
     ]
    },
    {
     "name": "stdout",
     "output_type": "stream",
     "text": [
      "\n",
      "Epoch {epoch}\n",
      "Training loss:0.020897770609994003\n"
     ]
    },
    {
     "name": "stderr",
     "output_type": "stream",
     "text": [
      " 40%|████      | 4/10 [06:46<10:06, 101.07s/it]"
     ]
    },
    {
     "name": "stdout",
     "output_type": "stream",
     "text": [
      "Val loss: 0.7817129868537825\n",
      "f1 score: 0.6106508875739645\n",
      "Acc score: 0.8967032967032967\n"
     ]
    },
    {
     "name": "stderr",
     "output_type": "stream",
     "text": [
      " 40%|████      | 4/10 [08:26<10:06, 101.07s/it]"
     ]
    },
    {
     "name": "stdout",
     "output_type": "stream",
     "text": [
      "\n",
      "Epoch {epoch}\n",
      "Training loss:0.014098671224246049\n"
     ]
    },
    {
     "name": "stderr",
     "output_type": "stream",
     "text": [
      " 50%|█████     | 5/10 [08:27<08:26, 101.34s/it]"
     ]
    },
    {
     "name": "stdout",
     "output_type": "stream",
     "text": [
      "Val loss: 0.9850433229816001\n",
      "f1 score: 0.5650182238244139\n",
      "Acc score: 0.8945054945054945\n"
     ]
    },
    {
     "name": "stderr",
     "output_type": "stream",
     "text": [
      " 50%|█████     | 5/10 [10:07<08:26, 101.34s/it]"
     ]
    },
    {
     "name": "stdout",
     "output_type": "stream",
     "text": [
      "\n",
      "Epoch {epoch}\n",
      "Training loss:0.0089204383796607\n"
     ]
    },
    {
     "name": "stderr",
     "output_type": "stream",
     "text": [
      " 60%|██████    | 6/10 [10:09<06:45, 101.32s/it]"
     ]
    },
    {
     "name": "stdout",
     "output_type": "stream",
     "text": [
      "Val loss: 1.0057936649898003\n",
      "f1 score: 0.6088805892727462\n",
      "Acc score: 0.9043956043956044\n"
     ]
    },
    {
     "name": "stderr",
     "output_type": "stream",
     "text": [
      " 60%|██████    | 6/10 [11:47<06:45, 101.32s/it]"
     ]
    },
    {
     "name": "stdout",
     "output_type": "stream",
     "text": [
      "\n",
      "Epoch {epoch}\n",
      "Training loss:0.0035953404948066226\n"
     ]
    },
    {
     "name": "stderr",
     "output_type": "stream",
     "text": [
      " 70%|███████   | 7/10 [11:49<05:02, 100.98s/it]"
     ]
    },
    {
     "name": "stdout",
     "output_type": "stream",
     "text": [
      "Val loss: 1.1274546078877454\n",
      "f1 score: 0.6019096165550822\n",
      "Acc score: 0.8989010989010989\n"
     ]
    },
    {
     "name": "stderr",
     "output_type": "stream",
     "text": [
      " 70%|███████   | 7/10 [13:28<05:02, 100.98s/it]"
     ]
    },
    {
     "name": "stdout",
     "output_type": "stream",
     "text": [
      "\n",
      "Epoch {epoch}\n",
      "Training loss:0.008574459282377123\n"
     ]
    },
    {
     "name": "stderr",
     "output_type": "stream",
     "text": [
      " 80%|████████  | 8/10 [13:29<03:21, 100.77s/it]"
     ]
    },
    {
     "name": "stdout",
     "output_type": "stream",
     "text": [
      "Val loss: 1.0298294377461514\n",
      "f1 score: 0.5839447102604998\n",
      "Acc score: 0.9054945054945055\n"
     ]
    },
    {
     "name": "stderr",
     "output_type": "stream",
     "text": [
      " 80%|████████  | 8/10 [15:09<03:21, 100.77s/it]"
     ]
    },
    {
     "name": "stdout",
     "output_type": "stream",
     "text": [
      "\n",
      "Epoch {epoch}\n",
      "Training loss:0.0004946391810972203\n"
     ]
    },
    {
     "name": "stderr",
     "output_type": "stream",
     "text": [
      " 90%|█████████ | 9/10 [15:10<01:40, 100.85s/it]"
     ]
    },
    {
     "name": "stdout",
     "output_type": "stream",
     "text": [
      "Val loss: 1.091805511654143\n",
      "f1 score: 0.5752593462517127\n",
      "Acc score: 0.8978021978021978\n"
     ]
    },
    {
     "name": "stderr",
     "output_type": "stream",
     "text": [
      " 90%|█████████ | 9/10 [16:50<01:40, 100.85s/it]"
     ]
    },
    {
     "name": "stdout",
     "output_type": "stream",
     "text": [
      "\n",
      "Epoch {epoch}\n",
      "Training loss:0.000862909733471728\n"
     ]
    },
    {
     "name": "stderr",
     "output_type": "stream",
     "text": [
      "100%|██████████| 10/10 [16:52<00:00, 101.22s/it]"
     ]
    },
    {
     "name": "stdout",
     "output_type": "stream",
     "text": [
      "Val loss: 1.1180490576499198\n",
      "f1 score: 0.5740803441614053\n",
      "Acc score: 0.8967032967032967\n"
     ]
    },
    {
     "name": "stderr",
     "output_type": "stream",
     "text": [
      "\n"
     ]
    }
   ],
   "source": [
    "tokenizer=BertTokenizer.from_pretrained('bert-base-uncased',do_lower_case=True)\n",
    "encoded_data_train=tokenizer.batch_encode_plus(train.tweet_text.values,add_special_tokens=True,return_attention_mask=True,pad_to_max_length=True,max_length=60,return_tensors='pt')\n",
    "encoded_data_val=tokenizer.batch_encode_plus(test.tweet_text.values,add_special_tokens=True,return_attention_mask=True,pad_to_max_length=True,max_length=60, return_tensors='pt')\n",
    "input_ids_train=encoded_data_train['input_ids']\n",
    "attention_masks_train=encoded_data_train['attention_mask']\n",
    "labels_train=torch.tensor(train.class_label.values,dtype=torch.long)\n",
    "input_ids_val=encoded_data_val['input_ids']\n",
    "attention_masks_val=encoded_data_val['attention_mask']\n",
    "labels_val=torch.tensor(test.class_label.values,dtype=torch.long)\n",
    "dataset_train=TensorDataset(input_ids_train,attention_masks_train,labels_train)\n",
    "dataset_val=TensorDataset(input_ids_val,attention_masks_val,labels_val)\n",
    "\n",
    "model=BertForSequenceClassification.from_pretrained('bert-base-uncased',num_labels=2,output_attentions=False,output_hidden_states=False)\n",
    "dataloader_train=DataLoader(dataset_train,sampler=RandomSampler(dataset_train),batch_size=5)\n",
    "dataloader_val=DataLoader(dataset_val,sampler=RandomSampler(dataset_val),batch_size=32)\n",
    "optimizer = AdamW(model.parameters(),lr=1e-5,eps=1e-8)\n",
    "epochs=10\n",
    "scheduler=get_linear_schedule_with_warmup(optimizer,num_warmup_steps=0,num_training_steps=len(dataloader_train)*epochs)\n",
    "\n",
    "def f1_score_func(preds,labels):\n",
    "    preds_flat=np.argmax(preds,axis=1).flatten()\n",
    "    labels_flat=labels.flatten()\n",
    "    return f1_score(labels_flat,preds_flat,average='macro')\n",
    "\n",
    "def accuracy_score_func(preds,labels):\n",
    "    preds_flat=np.argmax(preds,axis=1).flatten()\n",
    "    labels_flat=labels.flatten()\n",
    "    return accuracy_score(labels_flat,preds_flat)\n",
    "\n",
    "def evaluate(dataloader_val):\n",
    "    model.eval()\n",
    "    loss_val_total=0\n",
    "    predictions,true_vals=[],[]\n",
    "    for batch in dataloader_val:\n",
    "        batch=tuple(b.to(device) for b in batch)\n",
    "        inputs={'input_ids':batch[0],'attention_mask': batch[1],'labels':batch[2]}\n",
    "        with torch.no_grad():        \n",
    "            outputs=model(**inputs)\n",
    "        loss=outputs[0]\n",
    "        logits=outputs[1]\n",
    "        loss_val_total+=loss.item()\n",
    "        logits=logits.detach().cpu().numpy()\n",
    "        label_ids=inputs['labels'].cpu().numpy()\n",
    "        predictions.append(logits)\n",
    "        true_vals.append(label_ids)\n",
    "    loss_val_avg=loss_val_total/len(dataloader_val) \n",
    "    predictions=np.concatenate(predictions,axis=0)\n",
    "    true_vals=np.concatenate(true_vals,axis=0)\n",
    "    return loss_val_avg,predictions,true_vals\n",
    "\n",
    "seed_val=200\n",
    "random.seed(seed_val)\n",
    "np.random.seed(seed_val)\n",
    "torch.manual_seed(seed_val)\n",
    "torch.cuda.manual_seed_all(seed_val)\n",
    "device = torch.device('cuda:0' if torch.cuda.is_available() else 'cpu')\n",
    "model.to(device)\n",
    "print(device)\n",
    "for epoch in tqdm(range(1,epochs+1)):\n",
    "    model.train()\n",
    "    loss_train_total=0\n",
    "    progress_bar=tqdm(dataloader_train,desc='Epoch {:1d}'.format(epoch),leave=False,disable=False)\n",
    "    for batch in progress_bar:\n",
    "        model.zero_grad()\n",
    "        batch=tuple(b.to(device) for b in batch)\n",
    "        inputs={'input_ids':batch[0],'attention_mask':batch[1],'labels':batch[2]}\n",
    "        outputs=model(**inputs)\n",
    "        loss=outputs[0]\n",
    "        loss_train_total+=loss.item()\n",
    "        loss.backward()\n",
    "        torch.nn.utils.clip_grad_norm_(model.parameters(),1.0)\n",
    "        optimizer.step()\n",
    "        scheduler.step()\n",
    "        progress_bar.set_postfix({'training_loss':'{:.3f}'.format(loss.item()/len(batch))})\n",
    "    torch.save(model.state_dict(),f'BERT_ft_epoch{epoch}.model')\n",
    "    tqdm.write('\\nEpoch {epoch}')\n",
    "    loss_train_avg=loss_train_total/len(dataloader_train)\n",
    "    tqdm.write(f'Training loss:{loss_train_avg}')\n",
    "    val_loss,predictions,true_vals=evaluate(dataloader_val)\n",
    "    val_f1=f1_score_func(predictions,true_vals)\n",
    "    val_acc=accuracy_score_func(predictions,true_vals)\n",
    "    tqdm.write(f'Val loss: {val_loss}')\n",
    "    tqdm.write(f'f1 score: {val_f1}')\n",
    "    tqdm.write(f'Acc score: {val_acc}')"
   ]
  },
  {
   "cell_type": "code",
   "execution_count": 12,
   "metadata": {},
   "outputs": [
    {
     "name": "stdout",
     "output_type": "stream",
     "text": [
      "Test Accuracy: 0.89670\n",
      "Test Precision: 0.33333\n",
      "Test Recall: 0.14634\n",
      "Test F1: 0.20339\n"
     ]
    }
   ],
   "source": [
    "predictions=np.argmax(predictions,axis=1).flatten()\n",
    "true_vals=true_vals.flatten()\n",
    "print(\"Test Accuracy: %.5f\" %accuracy_score(true_vals,predictions))\n",
    "print(\"Test Precision: %.5f\" %precision_score(true_vals,predictions)) \n",
    "print(\"Test Recall: %.5f\" %recall_score(true_vals,predictions)) \n",
    "print(\"Test F1: %.5f\" %f1_score(true_vals,predictions)) "
   ]
  },
  {
   "cell_type": "markdown",
   "metadata": {},
   "source": [
    "## Sentiment feature"
   ]
  },
  {
   "cell_type": "code",
   "execution_count": 11,
   "metadata": {},
   "outputs": [
    {
     "name": "stderr",
     "output_type": "stream",
     "text": [
      "c:\\Users\\Ying Jhu\\anaconda3\\envs\\env_1\\lib\\site-packages\\sklearn\\utils\\validation.py:1688: FutureWarning: Feature names only support names that are all strings. Got feature names with dtypes: ['int', 'str']. An error will be raised in 1.2.\n",
      "  warnings.warn(\n",
      "c:\\Users\\Ying Jhu\\anaconda3\\envs\\env_1\\lib\\site-packages\\sklearn\\linear_model\\_logistic.py:814: ConvergenceWarning: lbfgs failed to converge (status=1):\n",
      "STOP: TOTAL NO. of ITERATIONS REACHED LIMIT.\n",
      "\n",
      "Increase the number of iterations (max_iter) or scale the data as shown in:\n",
      "    https://scikit-learn.org/stable/modules/preprocessing.html\n",
      "Please also refer to the documentation for alternative solver options:\n",
      "    https://scikit-learn.org/stable/modules/linear_model.html#logistic-regression\n",
      "  n_iter_i = _check_optimize_result(\n",
      "c:\\Users\\Ying Jhu\\anaconda3\\envs\\env_1\\lib\\site-packages\\sklearn\\linear_model\\_logistic.py:814: ConvergenceWarning: lbfgs failed to converge (status=1):\n",
      "STOP: TOTAL NO. of ITERATIONS REACHED LIMIT.\n",
      "\n",
      "Increase the number of iterations (max_iter) or scale the data as shown in:\n",
      "    https://scikit-learn.org/stable/modules/preprocessing.html\n",
      "Please also refer to the documentation for alternative solver options:\n",
      "    https://scikit-learn.org/stable/modules/linear_model.html#logistic-regression\n",
      "  n_iter_i = _check_optimize_result(\n",
      "c:\\Users\\Ying Jhu\\anaconda3\\envs\\env_1\\lib\\site-packages\\sklearn\\linear_model\\_logistic.py:814: ConvergenceWarning: lbfgs failed to converge (status=1):\n",
      "STOP: TOTAL NO. of ITERATIONS REACHED LIMIT.\n",
      "\n",
      "Increase the number of iterations (max_iter) or scale the data as shown in:\n",
      "    https://scikit-learn.org/stable/modules/preprocessing.html\n",
      "Please also refer to the documentation for alternative solver options:\n",
      "    https://scikit-learn.org/stable/modules/linear_model.html#logistic-regression\n",
      "  n_iter_i = _check_optimize_result(\n",
      "c:\\Users\\Ying Jhu\\anaconda3\\envs\\env_1\\lib\\site-packages\\sklearn\\linear_model\\_logistic.py:814: ConvergenceWarning: lbfgs failed to converge (status=1):\n",
      "STOP: TOTAL NO. of ITERATIONS REACHED LIMIT.\n",
      "\n",
      "Increase the number of iterations (max_iter) or scale the data as shown in:\n",
      "    https://scikit-learn.org/stable/modules/preprocessing.html\n",
      "Please also refer to the documentation for alternative solver options:\n",
      "    https://scikit-learn.org/stable/modules/linear_model.html#logistic-regression\n",
      "  n_iter_i = _check_optimize_result(\n",
      "c:\\Users\\Ying Jhu\\anaconda3\\envs\\env_1\\lib\\site-packages\\sklearn\\linear_model\\_logistic.py:814: ConvergenceWarning: lbfgs failed to converge (status=1):\n",
      "STOP: TOTAL NO. of ITERATIONS REACHED LIMIT.\n",
      "\n",
      "Increase the number of iterations (max_iter) or scale the data as shown in:\n",
      "    https://scikit-learn.org/stable/modules/preprocessing.html\n",
      "Please also refer to the documentation for alternative solver options:\n",
      "    https://scikit-learn.org/stable/modules/linear_model.html#logistic-regression\n",
      "  n_iter_i = _check_optimize_result(\n",
      "c:\\Users\\Ying Jhu\\anaconda3\\envs\\env_1\\lib\\site-packages\\sklearn\\linear_model\\_logistic.py:814: ConvergenceWarning: lbfgs failed to converge (status=1):\n",
      "STOP: TOTAL NO. of ITERATIONS REACHED LIMIT.\n",
      "\n",
      "Increase the number of iterations (max_iter) or scale the data as shown in:\n",
      "    https://scikit-learn.org/stable/modules/preprocessing.html\n",
      "Please also refer to the documentation for alternative solver options:\n",
      "    https://scikit-learn.org/stable/modules/linear_model.html#logistic-regression\n",
      "  n_iter_i = _check_optimize_result(\n",
      "c:\\Users\\Ying Jhu\\anaconda3\\envs\\env_1\\lib\\site-packages\\sklearn\\linear_model\\_logistic.py:814: ConvergenceWarning: lbfgs failed to converge (status=1):\n",
      "STOP: TOTAL NO. of ITERATIONS REACHED LIMIT.\n",
      "\n",
      "Increase the number of iterations (max_iter) or scale the data as shown in:\n",
      "    https://scikit-learn.org/stable/modules/preprocessing.html\n",
      "Please also refer to the documentation for alternative solver options:\n",
      "    https://scikit-learn.org/stable/modules/linear_model.html#logistic-regression\n",
      "  n_iter_i = _check_optimize_result(\n",
      "c:\\Users\\Ying Jhu\\anaconda3\\envs\\env_1\\lib\\site-packages\\sklearn\\linear_model\\_logistic.py:814: ConvergenceWarning: lbfgs failed to converge (status=1):\n",
      "STOP: TOTAL NO. of ITERATIONS REACHED LIMIT.\n",
      "\n",
      "Increase the number of iterations (max_iter) or scale the data as shown in:\n",
      "    https://scikit-learn.org/stable/modules/preprocessing.html\n",
      "Please also refer to the documentation for alternative solver options:\n",
      "    https://scikit-learn.org/stable/modules/linear_model.html#logistic-regression\n",
      "  n_iter_i = _check_optimize_result(\n",
      "c:\\Users\\Ying Jhu\\anaconda3\\envs\\env_1\\lib\\site-packages\\sklearn\\linear_model\\_logistic.py:814: ConvergenceWarning: lbfgs failed to converge (status=1):\n",
      "STOP: TOTAL NO. of ITERATIONS REACHED LIMIT.\n",
      "\n",
      "Increase the number of iterations (max_iter) or scale the data as shown in:\n",
      "    https://scikit-learn.org/stable/modules/preprocessing.html\n",
      "Please also refer to the documentation for alternative solver options:\n",
      "    https://scikit-learn.org/stable/modules/linear_model.html#logistic-regression\n",
      "  n_iter_i = _check_optimize_result(\n",
      "c:\\Users\\Ying Jhu\\anaconda3\\envs\\env_1\\lib\\site-packages\\sklearn\\linear_model\\_logistic.py:814: ConvergenceWarning: lbfgs failed to converge (status=1):\n",
      "STOP: TOTAL NO. of ITERATIONS REACHED LIMIT.\n",
      "\n",
      "Increase the number of iterations (max_iter) or scale the data as shown in:\n",
      "    https://scikit-learn.org/stable/modules/preprocessing.html\n",
      "Please also refer to the documentation for alternative solver options:\n",
      "    https://scikit-learn.org/stable/modules/linear_model.html#logistic-regression\n",
      "  n_iter_i = _check_optimize_result(\n",
      "c:\\Users\\Ying Jhu\\anaconda3\\envs\\env_1\\lib\\site-packages\\sklearn\\linear_model\\_logistic.py:814: ConvergenceWarning: lbfgs failed to converge (status=1):\n",
      "STOP: TOTAL NO. of ITERATIONS REACHED LIMIT.\n",
      "\n",
      "Increase the number of iterations (max_iter) or scale the data as shown in:\n",
      "    https://scikit-learn.org/stable/modules/preprocessing.html\n",
      "Please also refer to the documentation for alternative solver options:\n",
      "    https://scikit-learn.org/stable/modules/linear_model.html#logistic-regression\n",
      "  n_iter_i = _check_optimize_result(\n",
      "c:\\Users\\Ying Jhu\\anaconda3\\envs\\env_1\\lib\\site-packages\\sklearn\\linear_model\\_logistic.py:814: ConvergenceWarning: lbfgs failed to converge (status=1):\n",
      "STOP: TOTAL NO. of ITERATIONS REACHED LIMIT.\n",
      "\n",
      "Increase the number of iterations (max_iter) or scale the data as shown in:\n",
      "    https://scikit-learn.org/stable/modules/preprocessing.html\n",
      "Please also refer to the documentation for alternative solver options:\n",
      "    https://scikit-learn.org/stable/modules/linear_model.html#logistic-regression\n",
      "  n_iter_i = _check_optimize_result(\n",
      "c:\\Users\\Ying Jhu\\anaconda3\\envs\\env_1\\lib\\site-packages\\sklearn\\linear_model\\_logistic.py:814: ConvergenceWarning: lbfgs failed to converge (status=1):\n",
      "STOP: TOTAL NO. of ITERATIONS REACHED LIMIT.\n",
      "\n",
      "Increase the number of iterations (max_iter) or scale the data as shown in:\n",
      "    https://scikit-learn.org/stable/modules/preprocessing.html\n",
      "Please also refer to the documentation for alternative solver options:\n",
      "    https://scikit-learn.org/stable/modules/linear_model.html#logistic-regression\n",
      "  n_iter_i = _check_optimize_result(\n",
      "c:\\Users\\Ying Jhu\\anaconda3\\envs\\env_1\\lib\\site-packages\\sklearn\\linear_model\\_logistic.py:814: ConvergenceWarning: lbfgs failed to converge (status=1):\n",
      "STOP: TOTAL NO. of ITERATIONS REACHED LIMIT.\n",
      "\n",
      "Increase the number of iterations (max_iter) or scale the data as shown in:\n",
      "    https://scikit-learn.org/stable/modules/preprocessing.html\n",
      "Please also refer to the documentation for alternative solver options:\n",
      "    https://scikit-learn.org/stable/modules/linear_model.html#logistic-regression\n",
      "  n_iter_i = _check_optimize_result(\n",
      "c:\\Users\\Ying Jhu\\anaconda3\\envs\\env_1\\lib\\site-packages\\sklearn\\linear_model\\_logistic.py:814: ConvergenceWarning: lbfgs failed to converge (status=1):\n",
      "STOP: TOTAL NO. of ITERATIONS REACHED LIMIT.\n",
      "\n",
      "Increase the number of iterations (max_iter) or scale the data as shown in:\n",
      "    https://scikit-learn.org/stable/modules/preprocessing.html\n",
      "Please also refer to the documentation for alternative solver options:\n",
      "    https://scikit-learn.org/stable/modules/linear_model.html#logistic-regression\n",
      "  n_iter_i = _check_optimize_result(\n",
      "c:\\Users\\Ying Jhu\\anaconda3\\envs\\env_1\\lib\\site-packages\\sklearn\\linear_model\\_logistic.py:814: ConvergenceWarning: lbfgs failed to converge (status=1):\n",
      "STOP: TOTAL NO. of ITERATIONS REACHED LIMIT.\n",
      "\n",
      "Increase the number of iterations (max_iter) or scale the data as shown in:\n",
      "    https://scikit-learn.org/stable/modules/preprocessing.html\n",
      "Please also refer to the documentation for alternative solver options:\n",
      "    https://scikit-learn.org/stable/modules/linear_model.html#logistic-regression\n",
      "  n_iter_i = _check_optimize_result(\n",
      "c:\\Users\\Ying Jhu\\anaconda3\\envs\\env_1\\lib\\site-packages\\sklearn\\linear_model\\_logistic.py:814: ConvergenceWarning: lbfgs failed to converge (status=1):\n",
      "STOP: TOTAL NO. of ITERATIONS REACHED LIMIT.\n",
      "\n",
      "Increase the number of iterations (max_iter) or scale the data as shown in:\n",
      "    https://scikit-learn.org/stable/modules/preprocessing.html\n",
      "Please also refer to the documentation for alternative solver options:\n",
      "    https://scikit-learn.org/stable/modules/linear_model.html#logistic-regression\n",
      "  n_iter_i = _check_optimize_result(\n",
      "c:\\Users\\Ying Jhu\\anaconda3\\envs\\env_1\\lib\\site-packages\\sklearn\\linear_model\\_logistic.py:814: ConvergenceWarning: lbfgs failed to converge (status=1):\n",
      "STOP: TOTAL NO. of ITERATIONS REACHED LIMIT.\n",
      "\n",
      "Increase the number of iterations (max_iter) or scale the data as shown in:\n",
      "    https://scikit-learn.org/stable/modules/preprocessing.html\n",
      "Please also refer to the documentation for alternative solver options:\n",
      "    https://scikit-learn.org/stable/modules/linear_model.html#logistic-regression\n",
      "  n_iter_i = _check_optimize_result(\n",
      "c:\\Users\\Ying Jhu\\anaconda3\\envs\\env_1\\lib\\site-packages\\sklearn\\linear_model\\_logistic.py:814: ConvergenceWarning: lbfgs failed to converge (status=1):\n",
      "STOP: TOTAL NO. of ITERATIONS REACHED LIMIT.\n",
      "\n",
      "Increase the number of iterations (max_iter) or scale the data as shown in:\n",
      "    https://scikit-learn.org/stable/modules/preprocessing.html\n",
      "Please also refer to the documentation for alternative solver options:\n",
      "    https://scikit-learn.org/stable/modules/linear_model.html#logistic-regression\n",
      "  n_iter_i = _check_optimize_result(\n",
      "c:\\Users\\Ying Jhu\\anaconda3\\envs\\env_1\\lib\\site-packages\\sklearn\\linear_model\\_logistic.py:814: ConvergenceWarning: lbfgs failed to converge (status=1):\n",
      "STOP: TOTAL NO. of ITERATIONS REACHED LIMIT.\n",
      "\n",
      "Increase the number of iterations (max_iter) or scale the data as shown in:\n",
      "    https://scikit-learn.org/stable/modules/preprocessing.html\n",
      "Please also refer to the documentation for alternative solver options:\n",
      "    https://scikit-learn.org/stable/modules/linear_model.html#logistic-regression\n",
      "  n_iter_i = _check_optimize_result(\n",
      "c:\\Users\\Ying Jhu\\anaconda3\\envs\\env_1\\lib\\site-packages\\sklearn\\linear_model\\_logistic.py:814: ConvergenceWarning: lbfgs failed to converge (status=1):\n",
      "STOP: TOTAL NO. of ITERATIONS REACHED LIMIT.\n",
      "\n",
      "Increase the number of iterations (max_iter) or scale the data as shown in:\n",
      "    https://scikit-learn.org/stable/modules/preprocessing.html\n",
      "Please also refer to the documentation for alternative solver options:\n",
      "    https://scikit-learn.org/stable/modules/linear_model.html#logistic-regression\n",
      "  n_iter_i = _check_optimize_result(\n",
      "c:\\Users\\Ying Jhu\\anaconda3\\envs\\env_1\\lib\\site-packages\\sklearn\\linear_model\\_logistic.py:814: ConvergenceWarning: lbfgs failed to converge (status=1):\n",
      "STOP: TOTAL NO. of ITERATIONS REACHED LIMIT.\n",
      "\n",
      "Increase the number of iterations (max_iter) or scale the data as shown in:\n",
      "    https://scikit-learn.org/stable/modules/preprocessing.html\n",
      "Please also refer to the documentation for alternative solver options:\n",
      "    https://scikit-learn.org/stable/modules/linear_model.html#logistic-regression\n",
      "  n_iter_i = _check_optimize_result(\n",
      "c:\\Users\\Ying Jhu\\anaconda3\\envs\\env_1\\lib\\site-packages\\sklearn\\linear_model\\_logistic.py:814: ConvergenceWarning: lbfgs failed to converge (status=1):\n",
      "STOP: TOTAL NO. of ITERATIONS REACHED LIMIT.\n",
      "\n",
      "Increase the number of iterations (max_iter) or scale the data as shown in:\n",
      "    https://scikit-learn.org/stable/modules/preprocessing.html\n",
      "Please also refer to the documentation for alternative solver options:\n",
      "    https://scikit-learn.org/stable/modules/linear_model.html#logistic-regression\n",
      "  n_iter_i = _check_optimize_result(\n",
      "c:\\Users\\Ying Jhu\\anaconda3\\envs\\env_1\\lib\\site-packages\\sklearn\\linear_model\\_logistic.py:814: ConvergenceWarning: lbfgs failed to converge (status=1):\n",
      "STOP: TOTAL NO. of ITERATIONS REACHED LIMIT.\n",
      "\n",
      "Increase the number of iterations (max_iter) or scale the data as shown in:\n",
      "    https://scikit-learn.org/stable/modules/preprocessing.html\n",
      "Please also refer to the documentation for alternative solver options:\n",
      "    https://scikit-learn.org/stable/modules/linear_model.html#logistic-regression\n",
      "  n_iter_i = _check_optimize_result(\n",
      "c:\\Users\\Ying Jhu\\anaconda3\\envs\\env_1\\lib\\site-packages\\sklearn\\linear_model\\_logistic.py:814: ConvergenceWarning: lbfgs failed to converge (status=1):\n",
      "STOP: TOTAL NO. of ITERATIONS REACHED LIMIT.\n",
      "\n",
      "Increase the number of iterations (max_iter) or scale the data as shown in:\n",
      "    https://scikit-learn.org/stable/modules/preprocessing.html\n",
      "Please also refer to the documentation for alternative solver options:\n",
      "    https://scikit-learn.org/stable/modules/linear_model.html#logistic-regression\n",
      "  n_iter_i = _check_optimize_result(\n",
      "c:\\Users\\Ying Jhu\\anaconda3\\envs\\env_1\\lib\\site-packages\\sklearn\\linear_model\\_logistic.py:814: ConvergenceWarning: lbfgs failed to converge (status=1):\n",
      "STOP: TOTAL NO. of ITERATIONS REACHED LIMIT.\n",
      "\n",
      "Increase the number of iterations (max_iter) or scale the data as shown in:\n",
      "    https://scikit-learn.org/stable/modules/preprocessing.html\n",
      "Please also refer to the documentation for alternative solver options:\n",
      "    https://scikit-learn.org/stable/modules/linear_model.html#logistic-regression\n",
      "  n_iter_i = _check_optimize_result(\n",
      "c:\\Users\\Ying Jhu\\anaconda3\\envs\\env_1\\lib\\site-packages\\sklearn\\linear_model\\_logistic.py:814: ConvergenceWarning: lbfgs failed to converge (status=1):\n",
      "STOP: TOTAL NO. of ITERATIONS REACHED LIMIT.\n",
      "\n",
      "Increase the number of iterations (max_iter) or scale the data as shown in:\n",
      "    https://scikit-learn.org/stable/modules/preprocessing.html\n",
      "Please also refer to the documentation for alternative solver options:\n",
      "    https://scikit-learn.org/stable/modules/linear_model.html#logistic-regression\n",
      "  n_iter_i = _check_optimize_result(\n",
      "c:\\Users\\Ying Jhu\\anaconda3\\envs\\env_1\\lib\\site-packages\\sklearn\\linear_model\\_logistic.py:814: ConvergenceWarning: lbfgs failed to converge (status=1):\n",
      "STOP: TOTAL NO. of ITERATIONS REACHED LIMIT.\n",
      "\n",
      "Increase the number of iterations (max_iter) or scale the data as shown in:\n",
      "    https://scikit-learn.org/stable/modules/preprocessing.html\n",
      "Please also refer to the documentation for alternative solver options:\n",
      "    https://scikit-learn.org/stable/modules/linear_model.html#logistic-regression\n",
      "  n_iter_i = _check_optimize_result(\n",
      "c:\\Users\\Ying Jhu\\anaconda3\\envs\\env_1\\lib\\site-packages\\sklearn\\linear_model\\_logistic.py:814: ConvergenceWarning: lbfgs failed to converge (status=1):\n",
      "STOP: TOTAL NO. of ITERATIONS REACHED LIMIT.\n",
      "\n",
      "Increase the number of iterations (max_iter) or scale the data as shown in:\n",
      "    https://scikit-learn.org/stable/modules/preprocessing.html\n",
      "Please also refer to the documentation for alternative solver options:\n",
      "    https://scikit-learn.org/stable/modules/linear_model.html#logistic-regression\n",
      "  n_iter_i = _check_optimize_result(\n",
      "c:\\Users\\Ying Jhu\\anaconda3\\envs\\env_1\\lib\\site-packages\\sklearn\\linear_model\\_logistic.py:814: ConvergenceWarning: lbfgs failed to converge (status=1):\n",
      "STOP: TOTAL NO. of ITERATIONS REACHED LIMIT.\n",
      "\n",
      "Increase the number of iterations (max_iter) or scale the data as shown in:\n",
      "    https://scikit-learn.org/stable/modules/preprocessing.html\n",
      "Please also refer to the documentation for alternative solver options:\n",
      "    https://scikit-learn.org/stable/modules/linear_model.html#logistic-regression\n",
      "  n_iter_i = _check_optimize_result(\n",
      "c:\\Users\\Ying Jhu\\anaconda3\\envs\\env_1\\lib\\site-packages\\sklearn\\linear_model\\_logistic.py:814: ConvergenceWarning: lbfgs failed to converge (status=1):\n",
      "STOP: TOTAL NO. of ITERATIONS REACHED LIMIT.\n",
      "\n",
      "Increase the number of iterations (max_iter) or scale the data as shown in:\n",
      "    https://scikit-learn.org/stable/modules/preprocessing.html\n",
      "Please also refer to the documentation for alternative solver options:\n",
      "    https://scikit-learn.org/stable/modules/linear_model.html#logistic-regression\n",
      "  n_iter_i = _check_optimize_result(\n",
      "c:\\Users\\Ying Jhu\\anaconda3\\envs\\env_1\\lib\\site-packages\\sklearn\\linear_model\\_logistic.py:814: ConvergenceWarning: lbfgs failed to converge (status=1):\n",
      "STOP: TOTAL NO. of ITERATIONS REACHED LIMIT.\n",
      "\n",
      "Increase the number of iterations (max_iter) or scale the data as shown in:\n",
      "    https://scikit-learn.org/stable/modules/preprocessing.html\n",
      "Please also refer to the documentation for alternative solver options:\n",
      "    https://scikit-learn.org/stable/modules/linear_model.html#logistic-regression\n",
      "  n_iter_i = _check_optimize_result(\n",
      "c:\\Users\\Ying Jhu\\anaconda3\\envs\\env_1\\lib\\site-packages\\sklearn\\linear_model\\_logistic.py:814: ConvergenceWarning: lbfgs failed to converge (status=1):\n",
      "STOP: TOTAL NO. of ITERATIONS REACHED LIMIT.\n",
      "\n",
      "Increase the number of iterations (max_iter) or scale the data as shown in:\n",
      "    https://scikit-learn.org/stable/modules/preprocessing.html\n",
      "Please also refer to the documentation for alternative solver options:\n",
      "    https://scikit-learn.org/stable/modules/linear_model.html#logistic-regression\n",
      "  n_iter_i = _check_optimize_result(\n",
      "c:\\Users\\Ying Jhu\\anaconda3\\envs\\env_1\\lib\\site-packages\\sklearn\\linear_model\\_logistic.py:814: ConvergenceWarning: lbfgs failed to converge (status=1):\n",
      "STOP: TOTAL NO. of ITERATIONS REACHED LIMIT.\n",
      "\n",
      "Increase the number of iterations (max_iter) or scale the data as shown in:\n",
      "    https://scikit-learn.org/stable/modules/preprocessing.html\n",
      "Please also refer to the documentation for alternative solver options:\n",
      "    https://scikit-learn.org/stable/modules/linear_model.html#logistic-regression\n",
      "  n_iter_i = _check_optimize_result(\n",
      "c:\\Users\\Ying Jhu\\anaconda3\\envs\\env_1\\lib\\site-packages\\sklearn\\linear_model\\_logistic.py:814: ConvergenceWarning: lbfgs failed to converge (status=1):\n",
      "STOP: TOTAL NO. of ITERATIONS REACHED LIMIT.\n",
      "\n",
      "Increase the number of iterations (max_iter) or scale the data as shown in:\n",
      "    https://scikit-learn.org/stable/modules/preprocessing.html\n",
      "Please also refer to the documentation for alternative solver options:\n",
      "    https://scikit-learn.org/stable/modules/linear_model.html#logistic-regression\n",
      "  n_iter_i = _check_optimize_result(\n",
      "c:\\Users\\Ying Jhu\\anaconda3\\envs\\env_1\\lib\\site-packages\\sklearn\\utils\\validation.py:1688: FutureWarning: Feature names only support names that are all strings. Got feature names with dtypes: ['int', 'str']. An error will be raised in 1.2.\n",
      "  warnings.warn(\n"
     ]
    },
    {
     "name": "stdout",
     "output_type": "stream",
     "text": [
      "accuracy= 0.6472527472527473\n",
      "              precision    recall  f1-score   support\n",
      "\n",
      "           0       0.92      0.67      0.78       828\n",
      "           1       0.11      0.39      0.17        82\n",
      "\n",
      "    accuracy                           0.65       910\n",
      "   macro avg       0.51      0.53      0.47       910\n",
      "weighted avg       0.84      0.65      0.72       910\n",
      "\n",
      "Test Accuracy: 0.64725\n",
      "Test Precision: 0.10561\n",
      "Test Recall: 0.39024\n",
      "Test F1: 0.16623\n"
     ]
    }
   ],
   "source": [
    "from textblob import TextBlob\n",
    "train[\"sentiment_score\"]=train[\"tweet_text\"].apply(lambda x:TextBlob(str(x)).sentiment.polarity)\n",
    "train[\"sentiment\"]=np.select([train[\"sentiment_score\"]<0,train[\"sentiment_score\"]==0,train[\"sentiment_score\"]>0],['neg','neu','pos'])\n",
    "test[\"sentiment_score\"]=test[\"tweet_text\"].apply(lambda x:TextBlob(str(x)).sentiment.polarity)\n",
    "test[\"sentiment\"]=np.select([test[\"sentiment_score\"]<0,test[\"sentiment_score\"]==0,test[\"sentiment_score\"]>0],['neg','neu','pos'])\n",
    "vocab_list=dict(vocab_list)\n",
    "def get_key(d,val):\n",
    "    for key, value in d.items():\n",
    "         if val == value:\n",
    "             return key\n",
    "\n",
    "X_emb=[]\n",
    "for i in range(len(X)):\n",
    "    emb=[]\n",
    "    for j in X[i]:\n",
    "        if j!=0:\n",
    "            emb.extend(vocab_list[get_key(word2idx,j)])\n",
    "        else:\n",
    "            emb.extend(np.repeat(np.array(0),500))\n",
    "    X_emb.append(emb)\n",
    "X_emb=pd.DataFrame(X_emb)\n",
    "\n",
    "X_test_emb=[]\n",
    "for i in range(len(X_test)):\n",
    "    emb=[]\n",
    "    for j in X_test[i]:\n",
    "        if j!=0:\n",
    "            emb.extend(vocab_list[get_key(word2idx,j)])\n",
    "        else:\n",
    "            emb.extend(np.repeat(np.array(0),500))\n",
    "    X_test_emb.append(emb)\n",
    "X_test_emb=pd.DataFrame(X_test_emb)\n",
    "\n",
    "x_train_sen=X_emb.merge(train[\"sentiment\"],how='outer',left_index=True,right_index=True)\n",
    "x_test_sen=X_test_emb.merge(test[\"sentiment\"],how='outer',left_index=True,right_index=True)\n",
    "label_encoder = preprocessing.LabelEncoder()\n",
    "x_train_sen[\"sentiment\"]=label_encoder.fit_transform(x_train_sen[\"sentiment\"])\n",
    "x_test_sen[\"sentiment\"]=label_encoder.fit_transform(x_test_sen[\"sentiment\"])\n",
    "\n",
    "clf=LogisticRegressionCV()\n",
    "clf.fit(x_train_sen,y_train)\n",
    "pred= clf.predict(x_test_sen)\n",
    "print('accuracy=',accuracy_score(y_test,pred))\n",
    "print(classification_report(y_test, pred))\n",
    "print(\"Test Accuracy: %.5f\" %accuracy_score(y_test,pred))\n",
    "print(\"Test Precision: %.5f\" %precision_score(y_test,pred)) \n",
    "print(\"Test Recall: %.5f\" %recall_score(y_test,pred)) \n",
    "print(\"Test F1: %.5f\" %f1_score(y_test,pred)) "
   ]
  },
  {
   "cell_type": "markdown",
   "metadata": {},
   "source": [
    "## TextGCN"
   ]
  },
  {
   "cell_type": "code",
   "execution_count": 13,
   "metadata": {},
   "outputs": [
    {
     "name": "stderr",
     "output_type": "stream",
     "text": [
      "c:\\Users\\Ying Jhu\\anaconda3\\envs\\env_1\\lib\\site-packages\\tf_geometric\\layers\\conv\\gcn.py:79: DeprecationWarning: 'GCN.cache_normed_edge(graph, override)' is deprecated, use 'GCN.build_cache_for_graph(graph, override)' instead\n",
      "  warnings.warn(\"'GCN.cache_normed_edge(graph, override)' is deprecated, use 'GCN.build_cache_for_graph(graph, override)' instead\", DeprecationWarning)\n",
      "c:\\Users\\Ying Jhu\\anaconda3\\envs\\env_1\\lib\\site-packages\\tf_geometric\\layers\\conv\\gcn.py:79: DeprecationWarning: 'GCN.cache_normed_edge(graph, override)' is deprecated, use 'GCN.build_cache_for_graph(graph, override)' instead\n",
      "  warnings.warn(\"'GCN.cache_normed_edge(graph, override)' is deprecated, use 'GCN.build_cache_for_graph(graph, override)' instead\", DeprecationWarning)\n"
     ]
    },
    {
     "name": "stdout",
     "output_type": "stream",
     "text": [
      "Graph Shape: x => (20181, 500)\tedge_index => (2, 485068)\ty => None\n",
      "Graph Shape: x => (26692, 500)\tedge_index => (2, 743868)\ty => None\n",
      "Graph Shape: x => (21091, 500)\tedge_index => (2, 516596)\ty => None\n"
     ]
    },
    {
     "name": "stderr",
     "output_type": "stream",
     "text": [
      "  0%|          | 0/1000 [00:00<?, ?it/s]c:\\Users\\Ying Jhu\\anaconda3\\envs\\env_1\\lib\\site-packages\\sklearn\\metrics\\_classification.py:1318: UndefinedMetricWarning: Precision is ill-defined and being set to 0.0 due to no predicted samples. Use `zero_division` parameter to control this behavior.\n",
      "  _warn_prf(average, modifier, msg_start, len(result))\n",
      "  0%|          | 3/1000 [00:03<15:02,  1.11it/s]"
     ]
    },
    {
     "name": "stdout",
     "output_type": "stream",
     "text": [
      "step = 0\tloss = 0.6921458840370178\ttest_accuracy = 0.9098901152610779\n",
      "Test Accuracy: 0.90989\n",
      "Test Precision: 0.00000\n",
      "Test Recall: 0.00000\n",
      "Test F1: 0.00000\n"
     ]
    },
    {
     "name": "stderr",
     "output_type": "stream",
     "text": [
      "  3%|▎         | 27/1000 [00:03<00:54, 17.83it/s]"
     ]
    },
    {
     "name": "stdout",
     "output_type": "stream",
     "text": [
      "step = 10\tloss = 0.5750411748886108\ttest_accuracy = 0.3032967150211334\n",
      "Test Accuracy: 0.30330\n",
      "Test Precision: 0.09412\n",
      "Test Recall: 0.78049\n",
      "Test F1: 0.16798\n",
      "step = 20\tloss = 0.4630354344844818\ttest_accuracy = 0.33076924085617065\n",
      "Test Accuracy: 0.33077\n",
      "Test Precision: 0.09524\n",
      "Test Recall: 0.75610\n",
      "Test F1: 0.16917\n"
     ]
    },
    {
     "name": "stderr",
     "output_type": "stream",
     "text": [
      "  4%|▍         | 45/1000 [00:03<00:26, 35.55it/s]"
     ]
    },
    {
     "name": "stdout",
     "output_type": "stream",
     "text": [
      "step = 30\tloss = 0.34896788001060486\ttest_accuracy = 0.3340659439563751\n",
      "Test Accuracy: 0.33407\n",
      "Test Precision: 0.09190\n",
      "Test Recall: 0.71951\n",
      "Test F1: 0.16298\n",
      "step = 40\tloss = 0.27917876839637756\ttest_accuracy = 0.4208791255950928\n",
      "Test Accuracy: 0.42088\n",
      "Test Precision: 0.10619\n",
      "Test Recall: 0.73171\n",
      "Test F1: 0.18547\n"
     ]
    },
    {
     "name": "stderr",
     "output_type": "stream",
     "text": [
      "  6%|▋         | 63/1000 [00:04<00:17, 53.46it/s]"
     ]
    },
    {
     "name": "stdout",
     "output_type": "stream",
     "text": [
      "step = 50\tloss = 0.23374015092849731\ttest_accuracy = 0.6274725198745728\n",
      "Test Accuracy: 0.62747\n",
      "Test Precision: 0.13598\n",
      "Test Recall: 0.58537\n",
      "Test F1: 0.22069\n",
      "step = 60\tloss = 0.20112842321395874\ttest_accuracy = 0.6582417488098145\n",
      "Test Accuracy: 0.65824\n",
      "Test Precision: 0.14330\n",
      "Test Recall: 0.56098\n",
      "Test F1: 0.22829\n"
     ]
    },
    {
     "name": "stderr",
     "output_type": "stream",
     "text": [
      "  8%|▊         | 81/1000 [00:04<00:13, 67.78it/s]"
     ]
    },
    {
     "name": "stdout",
     "output_type": "stream",
     "text": [
      "step = 70\tloss = 0.17314721643924713\ttest_accuracy = 0.7296703457832336\n",
      "Test Accuracy: 0.72967\n",
      "Test Precision: 0.17460\n",
      "Test Recall: 0.53659\n",
      "Test F1: 0.26347\n",
      "step = 80\tloss = 0.15478506684303284\ttest_accuracy = 0.692307710647583\n",
      "Test Accuracy: 0.69231\n",
      "Test Precision: 0.15625\n",
      "Test Recall: 0.54878\n",
      "Test F1: 0.24324\n"
     ]
    },
    {
     "name": "stderr",
     "output_type": "stream",
     "text": [
      " 10%|█         | 101/1000 [00:04<00:11, 78.20it/s]"
     ]
    },
    {
     "name": "stdout",
     "output_type": "stream",
     "text": [
      "step = 90\tloss = 0.13623937964439392\ttest_accuracy = 0.7296703457832336\n",
      "Test Accuracy: 0.72967\n",
      "Test Precision: 0.16667\n",
      "Test Recall: 0.50000\n",
      "Test F1: 0.25000\n",
      "step = 100\tloss = 0.13143087923526764\ttest_accuracy = 0.7263736128807068\n",
      "Test Accuracy: 0.72637\n",
      "Test Precision: 0.16466\n",
      "Test Recall: 0.50000\n",
      "Test F1: 0.24773\n"
     ]
    },
    {
     "name": "stderr",
     "output_type": "stream",
     "text": [
      " 12%|█▏        | 121/1000 [00:04<00:10, 84.04it/s]"
     ]
    },
    {
     "name": "stdout",
     "output_type": "stream",
     "text": [
      "step = 110\tloss = 0.1138099655508995\ttest_accuracy = 0.708791196346283\n",
      "Test Accuracy: 0.70879\n",
      "Test Precision: 0.15985\n",
      "Test Recall: 0.52439\n",
      "Test F1: 0.24501\n",
      "step = 120\tloss = 0.10620272904634476\ttest_accuracy = 0.7571428418159485\n",
      "Test Accuracy: 0.75714\n",
      "Test Precision: 0.18265\n",
      "Test Recall: 0.48780\n",
      "Test F1: 0.26578\n"
     ]
    },
    {
     "name": "stderr",
     "output_type": "stream",
     "text": [
      " 14%|█▍        | 141/1000 [00:05<00:09, 86.67it/s]"
     ]
    },
    {
     "name": "stdout",
     "output_type": "stream",
     "text": [
      "step = 130\tloss = 0.08955313265323639\ttest_accuracy = 0.7153846025466919\n",
      "Test Accuracy: 0.71538\n",
      "Test Precision: 0.16350\n",
      "Test Recall: 0.52439\n",
      "Test F1: 0.24928\n",
      "step = 140\tloss = 0.08857043832540512\ttest_accuracy = 0.7879120707511902\n",
      "Test Accuracy: 0.78791\n",
      "Test Precision: 0.19672\n",
      "Test Recall: 0.43902\n",
      "Test F1: 0.27170\n"
     ]
    },
    {
     "name": "stderr",
     "output_type": "stream",
     "text": [
      " 16%|█▌        | 161/1000 [00:05<00:09, 88.15it/s]"
     ]
    },
    {
     "name": "stdout",
     "output_type": "stream",
     "text": [
      "step = 150\tloss = 0.08045137673616409\ttest_accuracy = 0.7813186645507812\n",
      "Test Accuracy: 0.78132\n",
      "Test Precision: 0.19048\n",
      "Test Recall: 0.43902\n",
      "Test F1: 0.26568\n",
      "step = 160\tloss = 0.07512573152780533\ttest_accuracy = 0.7604395747184753\n",
      "Test Accuracy: 0.76044\n",
      "Test Precision: 0.17925\n",
      "Test Recall: 0.46341\n",
      "Test F1: 0.25850\n"
     ]
    },
    {
     "name": "stderr",
     "output_type": "stream",
     "text": [
      " 18%|█▊        | 181/1000 [00:05<00:09, 88.41it/s]"
     ]
    },
    {
     "name": "stdout",
     "output_type": "stream",
     "text": [
      "step = 170\tloss = 0.07120911031961441\ttest_accuracy = 0.7626373767852783\n",
      "Test Accuracy: 0.76264\n",
      "Test Precision: 0.18095\n",
      "Test Recall: 0.46341\n",
      "Test F1: 0.26027\n",
      "step = 180\tloss = 0.07024487853050232\ttest_accuracy = 0.7615384459495544\n",
      "Test Accuracy: 0.76154\n",
      "Test Precision: 0.18310\n",
      "Test Recall: 0.47561\n",
      "Test F1: 0.26441\n"
     ]
    },
    {
     "name": "stderr",
     "output_type": "stream",
     "text": [
      " 20%|██        | 201/1000 [00:05<00:08, 88.85it/s]"
     ]
    },
    {
     "name": "stdout",
     "output_type": "stream",
     "text": [
      "step = 190\tloss = 0.057819049805402756\ttest_accuracy = 0.7395604252815247\n",
      "Test Accuracy: 0.73956\n",
      "Test Precision: 0.16738\n",
      "Test Recall: 0.47561\n",
      "Test F1: 0.24762\n",
      "step = 200\tloss = 0.061194710433483124\ttest_accuracy = 0.7648351788520813\n",
      "Test Accuracy: 0.76484\n",
      "Test Precision: 0.17961\n",
      "Test Recall: 0.45122\n",
      "Test F1: 0.25694\n"
     ]
    },
    {
     "name": "stderr",
     "output_type": "stream",
     "text": [
      " 22%|██▏       | 221/1000 [00:05<00:08, 89.23it/s]"
     ]
    },
    {
     "name": "stdout",
     "output_type": "stream",
     "text": [
      "step = 210\tloss = 0.051441773772239685\ttest_accuracy = 0.7648351788520813\n",
      "Test Accuracy: 0.76484\n",
      "Test Precision: 0.18269\n",
      "Test Recall: 0.46341\n",
      "Test F1: 0.26207\n",
      "step = 220\tloss = 0.05982377007603645\ttest_accuracy = 0.7571428418159485\n",
      "Test Accuracy: 0.75714\n",
      "Test Precision: 0.18265\n",
      "Test Recall: 0.48780\n",
      "Test F1: 0.26578\n"
     ]
    },
    {
     "name": "stderr",
     "output_type": "stream",
     "text": [
      " 24%|██▍       | 241/1000 [00:06<00:08, 89.32it/s]"
     ]
    },
    {
     "name": "stdout",
     "output_type": "stream",
     "text": [
      "step = 230\tloss = 0.04634536802768707\ttest_accuracy = 0.7857142686843872\n",
      "Test Accuracy: 0.78571\n",
      "Test Precision: 0.19126\n",
      "Test Recall: 0.42683\n",
      "Test F1: 0.26415\n",
      "step = 240\tloss = 0.04558107629418373\ttest_accuracy = 0.791208803653717\n",
      "Test Accuracy: 0.79121\n",
      "Test Precision: 0.19318\n",
      "Test Recall: 0.41463\n",
      "Test F1: 0.26357\n"
     ]
    },
    {
     "name": "stderr",
     "output_type": "stream",
     "text": [
      " 26%|██▌       | 261/1000 [00:06<00:08, 89.12it/s]"
     ]
    },
    {
     "name": "stdout",
     "output_type": "stream",
     "text": [
      "step = 250\tloss = 0.04264986142516136\ttest_accuracy = 0.7989010810852051\n",
      "Test Accuracy: 0.79890\n",
      "Test Precision: 0.19018\n",
      "Test Recall: 0.37805\n",
      "Test F1: 0.25306\n",
      "step = 260\tloss = 0.04212963208556175\ttest_accuracy = 0.807692289352417\n",
      "Test Accuracy: 0.80769\n",
      "Test Precision: 0.20382\n",
      "Test Recall: 0.39024\n",
      "Test F1: 0.26778\n"
     ]
    },
    {
     "name": "stderr",
     "output_type": "stream",
     "text": [
      " 28%|██▊       | 281/1000 [00:06<00:08, 89.62it/s]"
     ]
    },
    {
     "name": "stdout",
     "output_type": "stream",
     "text": [
      "step = 270\tloss = 0.03950118646025658\ttest_accuracy = 0.7846153974533081\n",
      "Test Accuracy: 0.78462\n",
      "Test Precision: 0.17978\n",
      "Test Recall: 0.39024\n",
      "Test F1: 0.24615\n",
      "step = 280\tloss = 0.035412222146987915\ttest_accuracy = 0.7923076748847961\n",
      "Test Accuracy: 0.79231\n",
      "Test Precision: 0.18713\n",
      "Test Recall: 0.39024\n",
      "Test F1: 0.25296\n"
     ]
    },
    {
     "name": "stderr",
     "output_type": "stream",
     "text": [
      " 30%|███       | 301/1000 [00:06<00:07, 89.20it/s]"
     ]
    },
    {
     "name": "stdout",
     "output_type": "stream",
     "text": [
      "step = 290\tloss = 0.04620799049735069\ttest_accuracy = 0.80989009141922\n",
      "Test Accuracy: 0.80989\n",
      "Test Precision: 0.19868\n",
      "Test Recall: 0.36585\n",
      "Test F1: 0.25751\n",
      "step = 300\tloss = 0.03931599482893944\ttest_accuracy = 0.803296685218811\n",
      "Test Accuracy: 0.80330\n",
      "Test Precision: 0.19108\n",
      "Test Recall: 0.36585\n",
      "Test F1: 0.25105\n"
     ]
    },
    {
     "name": "stderr",
     "output_type": "stream",
     "text": [
      " 32%|███▏      | 321/1000 [00:07<00:07, 89.00it/s]"
     ]
    },
    {
     "name": "stdout",
     "output_type": "stream",
     "text": [
      "step = 310\tloss = 0.03421838954091072\ttest_accuracy = 0.7604395747184753\n",
      "Test Accuracy: 0.76044\n",
      "Test Precision: 0.17619\n",
      "Test Recall: 0.45122\n",
      "Test F1: 0.25342\n",
      "step = 320\tloss = 0.03250943869352341\ttest_accuracy = 0.7494505643844604\n",
      "Test Accuracy: 0.74945\n",
      "Test Precision: 0.17411\n",
      "Test Recall: 0.47561\n",
      "Test F1: 0.25490\n"
     ]
    },
    {
     "name": "stderr",
     "output_type": "stream",
     "text": [
      " 34%|███▍      | 341/1000 [00:07<00:07, 89.47it/s]"
     ]
    },
    {
     "name": "stdout",
     "output_type": "stream",
     "text": [
      "step = 330\tloss = 0.03269683197140694\ttest_accuracy = 0.7483516335487366\n",
      "Test Accuracy: 0.74835\n",
      "Test Precision: 0.17040\n",
      "Test Recall: 0.46341\n",
      "Test F1: 0.24918\n",
      "step = 340\tloss = 0.037387650460004807\ttest_accuracy = 0.805494487285614\n",
      "Test Accuracy: 0.80549\n",
      "Test Precision: 0.19745\n",
      "Test Recall: 0.37805\n",
      "Test F1: 0.25941\n"
     ]
    },
    {
     "name": "stderr",
     "output_type": "stream",
     "text": [
      " 36%|███▌      | 361/1000 [00:07<00:07, 89.77it/s]"
     ]
    },
    {
     "name": "stdout",
     "output_type": "stream",
     "text": [
      "step = 350\tloss = 0.02714417688548565\ttest_accuracy = 0.8065934181213379\n",
      "Test Accuracy: 0.80659\n",
      "Test Precision: 0.19872\n",
      "Test Recall: 0.37805\n",
      "Test F1: 0.26050\n",
      "step = 360\tloss = 0.027199096977710724\ttest_accuracy = 0.7824175953865051\n",
      "Test Accuracy: 0.78242\n",
      "Test Precision: 0.19474\n",
      "Test Recall: 0.45122\n",
      "Test F1: 0.27206\n"
     ]
    },
    {
     "name": "stderr",
     "output_type": "stream",
     "text": [
      " 38%|███▊      | 381/1000 [00:07<00:06, 89.92it/s]"
     ]
    },
    {
     "name": "stdout",
     "output_type": "stream",
     "text": [
      "step = 370\tloss = 0.022534243762493134\ttest_accuracy = 0.7824175953865051\n",
      "Test Accuracy: 0.78242\n",
      "Test Precision: 0.19149\n",
      "Test Recall: 0.43902\n",
      "Test F1: 0.26667\n",
      "step = 380\tloss = 0.02973249740898609\ttest_accuracy = 0.8109890222549438\n",
      "Test Accuracy: 0.81099\n",
      "Test Precision: 0.20779\n",
      "Test Recall: 0.39024\n",
      "Test F1: 0.27119\n"
     ]
    },
    {
     "name": "stderr",
     "output_type": "stream",
     "text": [
      " 40%|████      | 401/1000 [00:07<00:06, 89.93it/s]"
     ]
    },
    {
     "name": "stdout",
     "output_type": "stream",
     "text": [
      "step = 390\tloss = 0.02477419376373291\ttest_accuracy = 0.7791208624839783\n",
      "Test Accuracy: 0.77912\n",
      "Test Precision: 0.18519\n",
      "Test Recall: 0.42683\n",
      "Test F1: 0.25830\n",
      "step = 400\tloss = 0.024596771225333214\ttest_accuracy = 0.8153846263885498\n",
      "Test Accuracy: 0.81538\n",
      "Test Precision: 0.20946\n",
      "Test Recall: 0.37805\n",
      "Test F1: 0.26957\n"
     ]
    },
    {
     "name": "stderr",
     "output_type": "stream",
     "text": [
      " 42%|████▏     | 421/1000 [00:08<00:06, 89.95it/s]"
     ]
    },
    {
     "name": "stdout",
     "output_type": "stream",
     "text": [
      "step = 410\tloss = 0.025926513597369194\ttest_accuracy = 0.7769230604171753\n",
      "Test Accuracy: 0.77692\n",
      "Test Precision: 0.17297\n",
      "Test Recall: 0.39024\n",
      "Test F1: 0.23970\n",
      "step = 420\tloss = 0.02082178182899952\ttest_accuracy = 0.7989010810852051\n",
      "Test Accuracy: 0.79890\n",
      "Test Precision: 0.18634\n",
      "Test Recall: 0.36585\n",
      "Test F1: 0.24691\n"
     ]
    },
    {
     "name": "stderr",
     "output_type": "stream",
     "text": [
      " 44%|████▍     | 441/1000 [00:08<00:06, 89.77it/s]"
     ]
    },
    {
     "name": "stdout",
     "output_type": "stream",
     "text": [
      "step = 430\tloss = 0.02239394001662731\ttest_accuracy = 0.7890110015869141\n",
      "Test Accuracy: 0.78901\n",
      "Test Precision: 0.18750\n",
      "Test Recall: 0.40244\n",
      "Test F1: 0.25581\n",
      "step = 440\tloss = 0.019177507609128952\ttest_accuracy = 0.79340660572052\n",
      "Test Accuracy: 0.79341\n",
      "Test Precision: 0.18072\n",
      "Test Recall: 0.36585\n",
      "Test F1: 0.24194\n"
     ]
    },
    {
     "name": "stderr",
     "output_type": "stream",
     "text": [
      " 46%|████▌     | 461/1000 [00:08<00:06, 89.27it/s]"
     ]
    },
    {
     "name": "stdout",
     "output_type": "stream",
     "text": [
      "step = 450\tloss = 0.019423561170697212\ttest_accuracy = 0.803296685218811\n",
      "Test Accuracy: 0.80330\n",
      "Test Precision: 0.19497\n",
      "Test Recall: 0.37805\n",
      "Test F1: 0.25726\n",
      "step = 460\tloss = 0.02377856895327568\ttest_accuracy = 0.7824175953865051\n",
      "Test Accuracy: 0.78242\n",
      "Test Precision: 0.18478\n",
      "Test Recall: 0.41463\n",
      "Test F1: 0.25564\n"
     ]
    },
    {
     "name": "stderr",
     "output_type": "stream",
     "text": [
      " 48%|████▊     | 481/1000 [00:08<00:05, 89.27it/s]"
     ]
    },
    {
     "name": "stdout",
     "output_type": "stream",
     "text": [
      "step = 470\tloss = 0.026196928694844246\ttest_accuracy = 0.7835164666175842\n",
      "Test Accuracy: 0.78352\n",
      "Test Precision: 0.17877\n",
      "Test Recall: 0.39024\n",
      "Test F1: 0.24521\n",
      "step = 480\tloss = 0.02243088372051716\ttest_accuracy = 0.812087893486023\n",
      "Test Accuracy: 0.81209\n",
      "Test Precision: 0.20530\n",
      "Test Recall: 0.37805\n",
      "Test F1: 0.26609\n"
     ]
    },
    {
     "name": "stderr",
     "output_type": "stream",
     "text": [
      " 50%|█████     | 501/1000 [00:09<00:05, 89.43it/s]"
     ]
    },
    {
     "name": "stdout",
     "output_type": "stream",
     "text": [
      "step = 490\tloss = 0.0209891926497221\ttest_accuracy = 0.7516483664512634\n",
      "Test Accuracy: 0.75165\n",
      "Test Precision: 0.16972\n",
      "Test Recall: 0.45122\n",
      "Test F1: 0.24667\n",
      "step = 500\tloss = 0.018103202804923058\ttest_accuracy = 0.795604407787323\n",
      "Test Accuracy: 0.79560\n",
      "Test Precision: 0.18675\n",
      "Test Recall: 0.37805\n",
      "Test F1: 0.25000\n"
     ]
    },
    {
     "name": "stderr",
     "output_type": "stream",
     "text": [
      " 52%|█████▏    | 521/1000 [00:09<00:05, 89.35it/s]"
     ]
    },
    {
     "name": "stdout",
     "output_type": "stream",
     "text": [
      "step = 510\tloss = 0.019208937883377075\ttest_accuracy = 0.7824175953865051\n",
      "Test Accuracy: 0.78242\n",
      "Test Precision: 0.17778\n",
      "Test Recall: 0.39024\n",
      "Test F1: 0.24427\n",
      "step = 520\tloss = 0.021295607089996338\ttest_accuracy = 0.7989010810852051\n",
      "Test Accuracy: 0.79890\n",
      "Test Precision: 0.19394\n",
      "Test Recall: 0.39024\n",
      "Test F1: 0.25911\n"
     ]
    },
    {
     "name": "stderr",
     "output_type": "stream",
     "text": [
      " 54%|█████▍    | 541/1000 [00:09<00:05, 89.40it/s]"
     ]
    },
    {
     "name": "stdout",
     "output_type": "stream",
     "text": [
      "step = 530\tloss = 0.014936068095266819\ttest_accuracy = 0.7923076748847961\n",
      "Test Accuracy: 0.79231\n",
      "Test Precision: 0.18713\n",
      "Test Recall: 0.39024\n",
      "Test F1: 0.25296\n",
      "step = 540\tloss = 0.01898135431110859\ttest_accuracy = 0.791208803653717\n",
      "Test Accuracy: 0.79121\n",
      "Test Precision: 0.18605\n",
      "Test Recall: 0.39024\n",
      "Test F1: 0.25197\n"
     ]
    },
    {
     "name": "stderr",
     "output_type": "stream",
     "text": [
      " 56%|█████▌    | 561/1000 [00:09<00:04, 89.33it/s]"
     ]
    },
    {
     "name": "stdout",
     "output_type": "stream",
     "text": [
      "step = 550\tloss = 0.022251663729548454\ttest_accuracy = 0.8065934181213379\n",
      "Test Accuracy: 0.80659\n",
      "Test Precision: 0.19481\n",
      "Test Recall: 0.36585\n",
      "Test F1: 0.25424\n",
      "step = 560\tloss = 0.015207313001155853\ttest_accuracy = 0.807692289352417\n",
      "Test Accuracy: 0.80769\n",
      "Test Precision: 0.19608\n",
      "Test Recall: 0.36585\n",
      "Test F1: 0.25532\n"
     ]
    },
    {
     "name": "stderr",
     "output_type": "stream",
     "text": [
      " 58%|█████▊    | 581/1000 [00:09<00:04, 88.89it/s]"
     ]
    },
    {
     "name": "stdout",
     "output_type": "stream",
     "text": [
      "step = 570\tloss = 0.019508717581629753\ttest_accuracy = 0.7725274562835693\n",
      "Test Accuracy: 0.77253\n",
      "Test Precision: 0.18274\n",
      "Test Recall: 0.43902\n",
      "Test F1: 0.25806\n",
      "step = 580\tloss = 0.018580006435513496\ttest_accuracy = 0.8274725079536438\n",
      "Test Accuracy: 0.82747\n",
      "Test Precision: 0.21374\n",
      "Test Recall: 0.34146\n",
      "Test F1: 0.26291\n"
     ]
    },
    {
     "name": "stderr",
     "output_type": "stream",
     "text": [
      " 60%|██████    | 601/1000 [00:10<00:04, 88.90it/s]"
     ]
    },
    {
     "name": "stdout",
     "output_type": "stream",
     "text": [
      "step = 590\tloss = 0.02308519184589386\ttest_accuracy = 0.7780219912528992\n",
      "Test Accuracy: 0.77802\n",
      "Test Precision: 0.18421\n",
      "Test Recall: 0.42683\n",
      "Test F1: 0.25735\n",
      "step = 600\tloss = 0.019622184336185455\ttest_accuracy = 0.8175824284553528\n",
      "Test Accuracy: 0.81758\n",
      "Test Precision: 0.20833\n",
      "Test Recall: 0.36585\n",
      "Test F1: 0.26549\n"
     ]
    },
    {
     "name": "stderr",
     "output_type": "stream",
     "text": [
      " 62%|██████▏   | 621/1000 [00:10<00:04, 88.85it/s]"
     ]
    },
    {
     "name": "stdout",
     "output_type": "stream",
     "text": [
      "step = 610\tloss = 0.021250272169709206\ttest_accuracy = 0.7835164666175842\n",
      "Test Accuracy: 0.78352\n",
      "Test Precision: 0.17877\n",
      "Test Recall: 0.39024\n",
      "Test F1: 0.24521\n",
      "step = 620\tloss = 0.013249796815216541\ttest_accuracy = 0.8197802305221558\n",
      "Test Accuracy: 0.81978\n",
      "Test Precision: 0.21127\n",
      "Test Recall: 0.36585\n",
      "Test F1: 0.26786\n"
     ]
    },
    {
     "name": "stderr",
     "output_type": "stream",
     "text": [
      " 64%|██████▍   | 641/1000 [00:10<00:04, 88.82it/s]"
     ]
    },
    {
     "name": "stdout",
     "output_type": "stream",
     "text": [
      "step = 630\tloss = 0.031033899635076523\ttest_accuracy = 0.8021978139877319\n",
      "Test Accuracy: 0.80220\n",
      "Test Precision: 0.19753\n",
      "Test Recall: 0.39024\n",
      "Test F1: 0.26230\n",
      "step = 640\tloss = 0.014529521577060223\ttest_accuracy = 0.7769230604171753\n",
      "Test Accuracy: 0.77692\n",
      "Test Precision: 0.17989\n",
      "Test Recall: 0.41463\n",
      "Test F1: 0.25092\n"
     ]
    },
    {
     "name": "stderr",
     "output_type": "stream",
     "text": [
      " 66%|██████▌   | 661/1000 [00:10<00:03, 88.58it/s]"
     ]
    },
    {
     "name": "stdout",
     "output_type": "stream",
     "text": [
      "step = 650\tloss = 0.012278980575501919\ttest_accuracy = 0.8219780325889587\n",
      "Test Accuracy: 0.82198\n",
      "Test Precision: 0.21014\n",
      "Test Recall: 0.35366\n",
      "Test F1: 0.26364\n",
      "step = 660\tloss = 0.014784426428377628\ttest_accuracy = 0.7835164666175842\n",
      "Test Accuracy: 0.78352\n",
      "Test Precision: 0.17877\n",
      "Test Recall: 0.39024\n",
      "Test F1: 0.24521\n"
     ]
    },
    {
     "name": "stderr",
     "output_type": "stream",
     "text": [
      " 68%|██████▊   | 681/1000 [00:11<00:03, 88.75it/s]"
     ]
    },
    {
     "name": "stdout",
     "output_type": "stream",
     "text": [
      "step = 670\tloss = 0.01153829786926508\ttest_accuracy = 0.800000011920929\n",
      "Test Accuracy: 0.80000\n",
      "Test Precision: 0.18750\n",
      "Test Recall: 0.36585\n",
      "Test F1: 0.24793\n",
      "step = 680\tloss = 0.011535698547959328\ttest_accuracy = 0.8131868243217468\n",
      "Test Accuracy: 0.81319\n",
      "Test Precision: 0.19444\n",
      "Test Recall: 0.34146\n",
      "Test F1: 0.24779\n"
     ]
    },
    {
     "name": "stderr",
     "output_type": "stream",
     "text": [
      " 70%|███████   | 701/1000 [00:11<00:03, 89.18it/s]"
     ]
    },
    {
     "name": "stdout",
     "output_type": "stream",
     "text": [
      "step = 690\tloss = 0.012323829345405102\ttest_accuracy = 0.7846153974533081\n",
      "Test Accuracy: 0.78462\n",
      "Test Precision: 0.18333\n",
      "Test Recall: 0.40244\n",
      "Test F1: 0.25191\n",
      "step = 700\tloss = 0.011820663698017597\ttest_accuracy = 0.8153846263885498\n",
      "Test Accuracy: 0.81538\n",
      "Test Precision: 0.20139\n",
      "Test Recall: 0.35366\n",
      "Test F1: 0.25664\n"
     ]
    },
    {
     "name": "stderr",
     "output_type": "stream",
     "text": [
      " 72%|███████▏  | 721/1000 [00:11<00:03, 89.22it/s]"
     ]
    },
    {
     "name": "stdout",
     "output_type": "stream",
     "text": [
      "step = 710\tloss = 0.012148365378379822\ttest_accuracy = 0.7835164666175842\n",
      "Test Accuracy: 0.78352\n",
      "Test Precision: 0.18232\n",
      "Test Recall: 0.40244\n",
      "Test F1: 0.25095\n",
      "step = 720\tloss = 0.009641225449740887\ttest_accuracy = 0.7879120707511902\n",
      "Test Accuracy: 0.78791\n",
      "Test Precision: 0.18994\n",
      "Test Recall: 0.41463\n",
      "Test F1: 0.26054\n"
     ]
    },
    {
     "name": "stderr",
     "output_type": "stream",
     "text": [
      " 74%|███████▍  | 741/1000 [00:11<00:02, 88.77it/s]"
     ]
    },
    {
     "name": "stdout",
     "output_type": "stream",
     "text": [
      "step = 730\tloss = 0.009492170065641403\ttest_accuracy = 0.8065934181213379\n",
      "Test Accuracy: 0.80659\n",
      "Test Precision: 0.19079\n",
      "Test Recall: 0.35366\n",
      "Test F1: 0.24786\n",
      "step = 740\tloss = 0.011768502183258533\ttest_accuracy = 0.80989009141922\n",
      "Test Accuracy: 0.80989\n",
      "Test Precision: 0.19463\n",
      "Test Recall: 0.35366\n",
      "Test F1: 0.25108\n"
     ]
    },
    {
     "name": "stderr",
     "output_type": "stream",
     "text": [
      " 76%|███████▌  | 761/1000 [00:11<00:02, 88.95it/s]"
     ]
    },
    {
     "name": "stdout",
     "output_type": "stream",
     "text": [
      "step = 750\tloss = 0.01392333023250103\ttest_accuracy = 0.797802209854126\n",
      "Test Accuracy: 0.79780\n",
      "Test Precision: 0.18519\n",
      "Test Recall: 0.36585\n",
      "Test F1: 0.24590\n",
      "step = 760\tloss = 0.01350786630064249\ttest_accuracy = 0.7890110015869141\n",
      "Test Accuracy: 0.78901\n",
      "Test Precision: 0.19444\n",
      "Test Recall: 0.42683\n",
      "Test F1: 0.26718\n"
     ]
    },
    {
     "name": "stderr",
     "output_type": "stream",
     "text": [
      " 78%|███████▊  | 781/1000 [00:12<00:02, 89.11it/s]"
     ]
    },
    {
     "name": "stdout",
     "output_type": "stream",
     "text": [
      "step = 770\tloss = 0.010887673124670982\ttest_accuracy = 0.8164834976196289\n",
      "Test Accuracy: 0.81648\n",
      "Test Precision: 0.20280\n",
      "Test Recall: 0.35366\n",
      "Test F1: 0.25778\n",
      "step = 780\tloss = 0.009166965261101723\ttest_accuracy = 0.8109890222549438\n",
      "Test Accuracy: 0.81099\n",
      "Test Precision: 0.20000\n",
      "Test Recall: 0.36585\n",
      "Test F1: 0.25862\n"
     ]
    },
    {
     "name": "stderr",
     "output_type": "stream",
     "text": [
      " 80%|████████  | 801/1000 [00:12<00:02, 89.28it/s]"
     ]
    },
    {
     "name": "stdout",
     "output_type": "stream",
     "text": [
      "step = 790\tloss = 0.015145408920943737\ttest_accuracy = 0.7901098728179932\n",
      "Test Accuracy: 0.79011\n",
      "Test Precision: 0.17751\n",
      "Test Recall: 0.36585\n",
      "Test F1: 0.23904\n",
      "step = 800\tloss = 0.014120240695774555\ttest_accuracy = 0.803296685218811\n",
      "Test Accuracy: 0.80330\n",
      "Test Precision: 0.19108\n",
      "Test Recall: 0.36585\n",
      "Test F1: 0.25105\n"
     ]
    },
    {
     "name": "stderr",
     "output_type": "stream",
     "text": [
      " 82%|████████▏ | 821/1000 [00:12<00:02, 89.44it/s]"
     ]
    },
    {
     "name": "stdout",
     "output_type": "stream",
     "text": [
      "step = 810\tloss = 0.013793532736599445\ttest_accuracy = 0.7780219912528992\n",
      "Test Accuracy: 0.77802\n",
      "Test Precision: 0.17742\n",
      "Test Recall: 0.40244\n",
      "Test F1: 0.24627\n",
      "step = 820\tloss = 0.013775222934782505\ttest_accuracy = 0.8219780325889587\n",
      "Test Accuracy: 0.82198\n",
      "Test Precision: 0.21831\n",
      "Test Recall: 0.37805\n",
      "Test F1: 0.27679\n"
     ]
    },
    {
     "name": "stderr",
     "output_type": "stream",
     "text": [
      " 84%|████████▍ | 841/1000 [00:12<00:01, 89.18it/s]"
     ]
    },
    {
     "name": "stdout",
     "output_type": "stream",
     "text": [
      "step = 830\tloss = 0.011728004552423954\ttest_accuracy = 0.8164834976196289\n",
      "Test Accuracy: 0.81648\n",
      "Test Precision: 0.21088\n",
      "Test Recall: 0.37805\n",
      "Test F1: 0.27074\n",
      "step = 840\tloss = 0.011951620690524578\ttest_accuracy = 0.800000011920929\n",
      "Test Accuracy: 0.80000\n",
      "Test Precision: 0.19880\n",
      "Test Recall: 0.40244\n",
      "Test F1: 0.26613\n"
     ]
    },
    {
     "name": "stderr",
     "output_type": "stream",
     "text": [
      " 86%|████████▌ | 861/1000 [00:13<00:01, 88.89it/s]"
     ]
    },
    {
     "name": "stdout",
     "output_type": "stream",
     "text": [
      "step = 850\tloss = 0.013063156977295876\ttest_accuracy = 0.807692289352417\n",
      "Test Accuracy: 0.80769\n",
      "Test Precision: 0.19608\n",
      "Test Recall: 0.36585\n",
      "Test F1: 0.25532\n",
      "step = 860\tloss = 0.019486302509903908\ttest_accuracy = 0.800000011920929\n",
      "Test Accuracy: 0.80000\n",
      "Test Precision: 0.19136\n",
      "Test Recall: 0.37805\n",
      "Test F1: 0.25410\n"
     ]
    },
    {
     "name": "stderr",
     "output_type": "stream",
     "text": [
      " 88%|████████▊ | 881/1000 [00:13<00:01, 88.68it/s]"
     ]
    },
    {
     "name": "stdout",
     "output_type": "stream",
     "text": [
      "step = 870\tloss = 0.010179855860769749\ttest_accuracy = 0.797802209854126\n",
      "Test Accuracy: 0.79780\n",
      "Test Precision: 0.18519\n",
      "Test Recall: 0.36585\n",
      "Test F1: 0.24590\n",
      "step = 880\tloss = 0.010056997649371624\ttest_accuracy = 0.8186812996864319\n",
      "Test Accuracy: 0.81868\n",
      "Test Precision: 0.20567\n",
      "Test Recall: 0.35366\n",
      "Test F1: 0.26009\n"
     ]
    },
    {
     "name": "stderr",
     "output_type": "stream",
     "text": [
      " 90%|█████████ | 901/1000 [00:13<00:01, 89.22it/s]"
     ]
    },
    {
     "name": "stdout",
     "output_type": "stream",
     "text": [
      "step = 890\tloss = 0.00899588968604803\ttest_accuracy = 0.79340660572052\n",
      "Test Accuracy: 0.79341\n",
      "Test Precision: 0.18072\n",
      "Test Recall: 0.36585\n",
      "Test F1: 0.24194\n",
      "step = 900\tloss = 0.013471439480781555\ttest_accuracy = 0.8043956160545349\n",
      "Test Accuracy: 0.80440\n",
      "Test Precision: 0.18831\n",
      "Test Recall: 0.35366\n",
      "Test F1: 0.24576\n"
     ]
    },
    {
     "name": "stderr",
     "output_type": "stream",
     "text": [
      " 92%|█████████▏| 921/1000 [00:13<00:00, 89.00it/s]"
     ]
    },
    {
     "name": "stdout",
     "output_type": "stream",
     "text": [
      "step = 910\tloss = 0.0068601886741817\ttest_accuracy = 0.7989010810852051\n",
      "Test Accuracy: 0.79890\n",
      "Test Precision: 0.18634\n",
      "Test Recall: 0.36585\n",
      "Test F1: 0.24691\n",
      "step = 920\tloss = 0.009460489265620708\ttest_accuracy = 0.8065934181213379\n",
      "Test Accuracy: 0.80659\n",
      "Test Precision: 0.19872\n",
      "Test Recall: 0.37805\n",
      "Test F1: 0.26050\n"
     ]
    },
    {
     "name": "stderr",
     "output_type": "stream",
     "text": [
      " 94%|█████████▍| 941/1000 [00:13<00:00, 88.90it/s]"
     ]
    },
    {
     "name": "stdout",
     "output_type": "stream",
     "text": [
      "step = 930\tloss = 0.007659575901925564\ttest_accuracy = 0.7923076748847961\n",
      "Test Accuracy: 0.79231\n",
      "Test Precision: 0.19075\n",
      "Test Recall: 0.40244\n",
      "Test F1: 0.25882\n",
      "step = 940\tloss = 0.013020158745348454\ttest_accuracy = 0.7802197933197021\n",
      "Test Accuracy: 0.78022\n",
      "Test Precision: 0.17935\n",
      "Test Recall: 0.40244\n",
      "Test F1: 0.24812\n"
     ]
    },
    {
     "name": "stderr",
     "output_type": "stream",
     "text": [
      " 96%|█████████▌| 961/1000 [00:14<00:00, 88.68it/s]"
     ]
    },
    {
     "name": "stdout",
     "output_type": "stream",
     "text": [
      "step = 950\tloss = 0.007492179051041603\ttest_accuracy = 0.8087912201881409\n",
      "Test Accuracy: 0.80879\n",
      "Test Precision: 0.20130\n",
      "Test Recall: 0.37805\n",
      "Test F1: 0.26271\n",
      "step = 960\tloss = 0.006150762550532818\ttest_accuracy = 0.800000011920929\n",
      "Test Accuracy: 0.80000\n",
      "Test Precision: 0.19512\n",
      "Test Recall: 0.39024\n",
      "Test F1: 0.26016\n"
     ]
    },
    {
     "name": "stderr",
     "output_type": "stream",
     "text": [
      " 98%|█████████▊| 981/1000 [00:14<00:00, 88.74it/s]"
     ]
    },
    {
     "name": "stdout",
     "output_type": "stream",
     "text": [
      "step = 970\tloss = 0.008510136976838112\ttest_accuracy = 0.812087893486023\n",
      "Test Accuracy: 0.81209\n",
      "Test Precision: 0.20530\n",
      "Test Recall: 0.37805\n",
      "Test F1: 0.26609\n",
      "step = 980\tloss = 0.008337059058248997\ttest_accuracy = 0.8186812996864319\n",
      "Test Accuracy: 0.81868\n",
      "Test Precision: 0.20979\n",
      "Test Recall: 0.36585\n",
      "Test F1: 0.26667\n"
     ]
    },
    {
     "name": "stderr",
     "output_type": "stream",
     "text": [
      "100%|██████████| 1000/1000 [00:14<00:00, 68.29it/s]"
     ]
    },
    {
     "name": "stdout",
     "output_type": "stream",
     "text": [
      "step = 990\tloss = 0.010543250478804111\ttest_accuracy = 0.807692289352417\n",
      "Test Accuracy: 0.80769\n",
      "Test Precision: 0.19608\n",
      "Test Recall: 0.36585\n",
      "Test F1: 0.25532\n"
     ]
    },
    {
     "name": "stderr",
     "output_type": "stream",
     "text": [
      "\n"
     ]
    }
   ],
   "source": [
    "train_texts, test_texts, train_labels, test_labels = train['tweet_text'], test['tweet_text'], train['class_label'], test['class_label']\n",
    "\n",
    "tokenizer = Tokenizer()\n",
    "tokenizer.fit_on_texts(train_texts)\n",
    "\n",
    "train_sequences = tokenizer.texts_to_sequences(train_texts)\n",
    "test_sequences = tokenizer.texts_to_sequences(test_texts)\n",
    "\n",
    "class PMIModel(object):\n",
    "    def __init__(self):\n",
    "        self.word_counter = None\n",
    "        self.pair_counter = None\n",
    "    def get_pair_id(self, word0, word1):\n",
    "        pair_id = tuple(sorted([word0, word1]))\n",
    "        return pair_id\n",
    "    def fit(self, sequences, window_size):\n",
    "        self.word_counter = Counter()\n",
    "        self.pair_counter = Counter()\n",
    "        num_windows = 2\n",
    "        for sequence in tqdm(sequences):\n",
    "            for offset in range(len(sequence) - window_size):\n",
    "                window = sequence[offset:offset + window_size]\n",
    "                num_windows += 1\n",
    "                for i, word0 in enumerate(window):\n",
    "                    self.word_counter[word0] += 1\n",
    "                    for j, word1 in enumerate(window[i + 1:]):\n",
    "                        pair_id = self.get_pair_id(word0, word1)\n",
    "                        self.pair_counter[pair_id] += 1\n",
    "        for word, count in self.word_counter.items():\n",
    "            self.word_counter[word] = count / num_windows\n",
    "        for pair_id, count in self.pair_counter.items():\n",
    "            self.pair_counter[pair_id] = count / num_windows\n",
    "    def transform(self, word0, word1):\n",
    "        prob_a = self.word_counter[word0]\n",
    "        prob_b = self.word_counter[word1]\n",
    "        pair_id = self.get_pair_id(word0, word1)\n",
    "        prob_pair = self.pair_counter[pair_id]\n",
    "        if prob_a == 0 or prob_b == 0 or prob_pair == 0:\n",
    "            return 0\n",
    "        pmi = np.log(prob_pair / (prob_a * prob_b))\n",
    "        # print(word0, word1, pmi)\n",
    "        pmi = np.maximum(pmi, 0.0)\n",
    "        # print(pmi)\n",
    "        return pmi\n",
    "\n",
    "def build_word_graph(num_words, pmi_model, embedding_size):\n",
    "    x = tf.Variable(tf.random.truncated_normal([num_words, embedding_size], stddev=1 / np.sqrt(embedding_size)), dtype=tf.float32)\n",
    "    edges = []\n",
    "    edge_weight = []\n",
    "    for (word0, word1) in pmi_model.pair_counter.keys():\n",
    "        pmi = pmi_model.transform(word0, word1)\n",
    "        if pmi > 0:\n",
    "            edges.append([word0, word1])\n",
    "            edge_weight.append(pmi)\n",
    "            edges.append([word1, word0])\n",
    "            edge_weight.append(pmi)\n",
    "    edge_index = np.array(edges).T\n",
    "    return tfg.Graph(x=x, edge_index=edge_index, edge_weight=edge_weight)\n",
    "\n",
    "def build_combined_graph(word_graph, sequences, embedding_size):\n",
    "    num_words = word_graph.num_nodes\n",
    "    x = tf.zeros([len(sequences), embedding_size], dtype=tf.float32)\n",
    "    edges = []\n",
    "    edge_weight = []\n",
    "    for i, sequence in enumerate(sequences):\n",
    "        doc_node_index = num_words + i\n",
    "        for word in sequence:\n",
    "            edges.append([doc_node_index, word])  # only directed edge\n",
    "            edge_weight.append(1.0)  # use BOW instaead of TF-IDF\n",
    "    edge_index = np.array(edges).T\n",
    "    x = tf.concat([word_graph.x, x], axis=0)\n",
    "    edge_index = np.concatenate([word_graph.edge_index, edge_index], axis=1)\n",
    "    edge_weight = np.concatenate([word_graph.edge_weight, edge_weight], axis=0)\n",
    "    return tfg.Graph(x=x, edge_index=edge_index, edge_weight=edge_weight)\n",
    "\n",
    "# building PMI model is time consuming, using cache to optimize\n",
    "pmi_cache_path = \"cached_pmi_model.p\"\n",
    "if os.path.exists(pmi_cache_path):\n",
    "    with open(pmi_cache_path, \"rb\") as f:\n",
    "        pmi_model = pickle.load(f)\n",
    "else:\n",
    "    pmi_model = PMIModel()\n",
    "    pmi_model.fit(train_sequences, window_size=6)\n",
    "    with open(pmi_cache_path, \"wb\") as f:\n",
    "        pickle.dump(pmi_model, f)\n",
    "\n",
    "embedding_size = 500 #150\n",
    "num_words = len(tokenizer.word_index) + 1\n",
    "word_graph = build_word_graph(num_words, pmi_model, embedding_size)\n",
    "train_combined_graph = build_combined_graph(word_graph, train_sequences, embedding_size)\n",
    "test_combined_graph = build_combined_graph(word_graph, test_sequences, embedding_size)\n",
    "\n",
    "print(word_graph)\n",
    "print(train_combined_graph)\n",
    "print(test_combined_graph)\n",
    "\n",
    "num_classes = 2\n",
    "\n",
    "class GCNModel(tf.keras.Model):\n",
    "    def __init__(self, *args, **kwargs):\n",
    "        super().__init__(*args, **kwargs)\n",
    "        self.gcn0 = tfg.layers.GCN(100, activation=tf.nn.relu)\n",
    "        self.gcn1 = tfg.layers.GCN(num_classes)\n",
    "        self.dropout = keras.layers.Dropout(0.2) #0.5\n",
    "    def call(self, inputs, training=None, mask=None, cache=None):\n",
    "        x, edge_index, edge_weight = inputs\n",
    "        h = self.gcn0([x, edge_index, edge_weight], cache=cache)\n",
    "        h = self.dropout(h, training=training)\n",
    "        h = self.gcn1([h, edge_index, edge_weight], cache=cache)\n",
    "        return h\n",
    "\n",
    "model = GCNModel()\n",
    "model.gcn0.cache_normed_edge(train_combined_graph)\n",
    "model.gcn0.cache_normed_edge(test_combined_graph)\n",
    "\n",
    "@tf_utils.function\n",
    "def forward(graph, training=False):\n",
    "    logits = model([graph.x, graph.edge_index, graph.edge_weight], cache=graph.cache, training=training)\n",
    "    logits = logits[num_words:]\n",
    "    return logits\n",
    "\n",
    "def compute_loss(logits, labels):\n",
    "    losses = tf.nn.softmax_cross_entropy_with_logits(logits=logits, labels=tf.one_hot(labels, depth=num_classes))\n",
    "    mean_loss = tf.reduce_mean(losses)\n",
    "    return mean_loss\n",
    "\n",
    "optimizer = tf.keras.optimizers.Adam(learning_rate=5e-2)\n",
    "for step in tqdm(range(1000)):\n",
    "    with tf.GradientTape() as tape:\n",
    "        logits = forward(train_combined_graph, training=True)\n",
    "        mean_loss = compute_loss(logits, train_labels)\n",
    "    vars = tape.watched_variables()\n",
    "    grads = tape.gradient(mean_loss, vars)\n",
    "    optimizer.apply_gradients(zip(grads, vars))\n",
    "    if step % 10 == 0:\n",
    "        logits = forward(test_combined_graph)\n",
    "        preds = tf.argmax(logits, axis=-1)\n",
    "        corrects = tf.cast(tf.equal(preds, test_labels), tf.float32)\n",
    "        accuracy = tf.reduce_mean(corrects)\n",
    "        print(\"step = {}\\tloss = {}\\ttest_accuracy = {}\".format(step, mean_loss, accuracy))\n",
    "        print(\"Test Accuracy: %.5f\" %accuracy_score(test_labels,preds))\n",
    "        print(\"Test Precision: %.5f\" %precision_score(test_labels,preds)) \n",
    "        print(\"Test Recall: %.5f\" %recall_score(test_labels,preds)) \n",
    "        print(\"Test F1: %.5f\" %f1_score(test_labels,preds)) "
   ]
  }
 ],
 "metadata": {
  "interpreter": {
   "hash": "4c54bdd14369be9ab0059b60ff2e304e872dd6906eedb6d6864f97033813e188"
  },
  "kernelspec": {
   "display_name": "env_1",
   "language": "python",
   "name": "env_1"
  },
  "language_info": {
   "codemirror_mode": {
    "name": "ipython",
    "version": 3
   },
   "file_extension": ".py",
   "mimetype": "text/x-python",
   "name": "python",
   "nbconvert_exporter": "python",
   "pygments_lexer": "ipython3",
   "version": "3.8.12"
  },
  "orig_nbformat": 4
 },
 "nbformat": 4,
 "nbformat_minor": 2
}
